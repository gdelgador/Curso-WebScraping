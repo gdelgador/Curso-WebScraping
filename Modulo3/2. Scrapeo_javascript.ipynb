{
 "cells": [
  {
   "cell_type": "markdown",
   "metadata": {},
   "source": [
    "# 1. <a href=https://github.com/tryolabs/requestium >REQUESTIUM</a> : Requests + Selenium + lxml"
   ]
  },
  {
   "cell_type": "markdown",
   "metadata": {},
   "source": [
    "Requestium es una <b>librería de Python que combina el poder de Requests, Selenium y Parsel</b> en una única herramienta integrada para automatizar acciones web.\n",
    "La librería fue creada para escribir scripts de automatización web que se escriben utilizando principalmente Solicitudes, pero que pueden cambiar sin problemas a Selenium para las partes pesadas de JavaScript del sitio web, mientras se mantiene la sesión."
   ]
  },
  {
   "cell_type": "markdown",
   "metadata": {},
   "source": [
    "### USO DE REQUESTIUM"
   ]
  },
  {
   "cell_type": "code",
   "execution_count": 1,
   "metadata": {},
   "outputs": [],
   "source": [
    "#importando la librería\n",
    "from requestium import Session, Keys"
   ]
  },
  {
   "cell_type": "code",
   "execution_count": 2,
   "metadata": {},
   "outputs": [],
   "source": [
    "# iniciando \n",
    "s = Session(webdriver_path='./drivers/chromedriver.exe',#ruta acceso driver\n",
    "            browser='chrome',#navegador\n",
    "            default_timeout=15 # tiempo de espera\n",
    "            #webdriver_options={'arguments': ['headless']} #-> sirve para manejar el navegador en modo silencioso\n",
    "           )"
   ]
  },
  {
   "cell_type": "code",
   "execution_count": 3,
   "metadata": {},
   "outputs": [],
   "source": [
    "#página a navegar\n",
    "url='https://github.com/tryolabs/requestium'\n",
    "s.driver.get(url)"
   ]
  },
  {
   "cell_type": "code",
   "execution_count": 4,
   "metadata": {},
   "outputs": [],
   "source": [
    "#cerrar el navegador\n",
    "s.driver.quit()"
   ]
  },
  {
   "cell_type": "markdown",
   "metadata": {},
   "source": [
    "# 2. Scrapeando páginas con código javascript"
   ]
  },
  {
   "cell_type": "markdown",
   "metadata": {},
   "source": [
    "## 2.1 JavaScript"
   ]
  },
  {
   "cell_type": "markdown",
   "metadata": {},
   "source": [
    "JavaScript (JS) es un lenguaje ligero e interpretado, orientado a objetos con funciones de primera clase, más conocido como el lenguaje de script para páginas web, pero también usado en muchos entornos sin navegador, tales como node.js, Apache CouchDB y Adobe Acrobat. Es un lenguaje script multi-paradigma, basado en prototipos, dinámico, soporta estilos de programación funcional, orientada a objetos e imperativa. Leer más sobre JavaScript."
   ]
  },
  {
   "cell_type": "markdown",
   "metadata": {},
   "source": [
    "La siguiente <a href=http://quotes.toscrape.com/js/>página</a> contiene contenido java script"
   ]
  },
  {
   "cell_type": "markdown",
   "metadata": {},
   "source": [
    "### 2.1.1 Visualización javascript usando Scrapy"
   ]
  },
  {
   "cell_type": "markdown",
   "metadata": {},
   "source": [
    "- si utilizamos la página convencional: http://quotes.toscrape.com/ y realizamos la extracción de cierto valor utilizando el scrapy shell nos aparece:"
   ]
  },
  {
   "cell_type": "markdown",
   "metadata": {},
   "source": [
    "<img src='./img/requestium/web_sin_javascript.png' width=\"800\" height=\"500\">"
   ]
  },
  {
   "cell_type": "markdown",
   "metadata": {},
   "source": [
    "- si utilizamos la página con javascript: http://quotes.toscrape.com/js/ y realizamos la extracción de cierto valor utilizando el scrapy shell nos aparece:"
   ]
  },
  {
   "cell_type": "markdown",
   "metadata": {},
   "source": [
    "<img src='./img/requestium/web_con_javascript.png' width=\"800\" height=\"500\">"
   ]
  },
  {
   "cell_type": "markdown",
   "metadata": {},
   "source": [
    "#### NOTA \n",
    "* Scrapy puede realizar la renderización de páginas escritas en código javascript pero para ello se debe tener un sistema operativo Linux para la instalación de docker y <a href=https://blog.scrapinghub.com/2015/03/02/handling-javascript-in-scrapy-with-splash>Splash</a>"
   ]
  },
  {
   "cell_type": "markdown",
   "metadata": {},
   "source": [
    "### 2.1.2 Visualización usando Requestium"
   ]
  },
  {
   "cell_type": "markdown",
   "metadata": {},
   "source": [
    "Se utilizá requestium para poder <a href=https://es.quora.com/Qu%C3%A9-es-la-renderizaci%C3%B3n-del-lado-del-cliente-y-el-servidor-y-c%C3%B3mo-est%C3%A1-relacionado-con-las-aplicaciones-de-una-p%C3%A1gina>renderizar</a> la página con contenido javascript."
   ]
  },
  {
   "cell_type": "code",
   "execution_count": 17,
   "metadata": {},
   "outputs": [],
   "source": [
    "#importando la librería\n",
    "from requestium import Session, Keys\n",
    "from scrapy.selector import Selector  #más rápido en realizar la tarea"
   ]
  },
  {
   "cell_type": "code",
   "execution_count": 18,
   "metadata": {},
   "outputs": [],
   "source": [
    "# iniciando \n",
    "s = Session(webdriver_path='./drivers/chromedriver.exe',\n",
    "            browser='chrome',#navegador\n",
    "            default_timeout=15, # tiempo de espera\n",
    "            webdriver_options={'arguments': ['headless']} #-> sirve para manejar el navegador en modo silencioso\n",
    "           )"
   ]
  },
  {
   "cell_type": "code",
   "execution_count": 19,
   "metadata": {},
   "outputs": [],
   "source": [
    "#página a navegar\n",
    "url='http://quotes.toscrape.com/js/'\n",
    "s.driver.get(url)"
   ]
  },
  {
   "cell_type": "code",
   "execution_count": 33,
   "metadata": {},
   "outputs": [],
   "source": [
    "#obteniendo el body\n",
    "body = s.driver.page_source #->código fuente"
   ]
  },
  {
   "cell_type": "code",
   "execution_count": 34,
   "metadata": {},
   "outputs": [],
   "source": [
    "#pasando body a selenium\n",
    "response=Selector(text=body)"
   ]
  },
  {
   "cell_type": "code",
   "execution_count": 35,
   "metadata": {
    "scrolled": true
   },
   "outputs": [
    {
     "data": {
      "text/plain": [
       "'<div class=\"quote\"><span class=\"text\">“I love you without knowing how, or when, or from where. I love you simply, without problems or pride: I love you in this way because I do not know any other way of loving but this, in which there is no I or you, so intimate that your hand upon my chest is my hand, so intimate that when I fall asleep your eyes close.”</span><span>by <small class=\"author\">Pablo Neruda</small></span><div class=\"tags\">Tags: <a class=\"tag\">love</a> <a class=\"tag\">poetry</a></div></div>'"
      ]
     },
     "execution_count": 35,
     "metadata": {},
     "output_type": "execute_result"
    }
   ],
   "source": [
    "#realizando busqueda según quote\n",
    "response.css('div.quote').get()"
   ]
  },
  {
   "cell_type": "code",
   "execution_count": 24,
   "metadata": {},
   "outputs": [
    {
     "data": {
      "text/plain": [
       "10"
      ]
     },
     "execution_count": 24,
     "metadata": {},
     "output_type": "execute_result"
    }
   ],
   "source": [
    "len(response.css('div.quote'))"
   ]
  },
  {
   "cell_type": "markdown",
   "metadata": {},
   "source": [
    "#### Haciendo click next_page"
   ]
  },
  {
   "cell_type": "code",
   "execution_count": 28,
   "metadata": {},
   "outputs": [],
   "source": [
    "#Xpath selector\n",
    "s.driver.ensure_element_by_xpath('//li[@class=\"next\"]/a').click()"
   ]
  },
  {
   "cell_type": "code",
   "execution_count": 36,
   "metadata": {},
   "outputs": [],
   "source": [
    "#css selector\n",
    "s.driver.ensure_element_by_css_selector(\"li.next>a\", timeout=5).ensure_click()"
   ]
  },
  {
   "cell_type": "markdown",
   "metadata": {},
   "source": [
    "#### Cerrando conexión"
   ]
  },
  {
   "cell_type": "code",
   "execution_count": 37,
   "metadata": {},
   "outputs": [],
   "source": [
    "#cerrar el navegador\n",
    "s.driver.quit()"
   ]
  },
  {
   "cell_type": "markdown",
   "metadata": {},
   "source": [
    "# 3. Rellenado formularios con Requestium"
   ]
  },
  {
   "cell_type": "markdown",
   "metadata": {},
   "source": [
    "Para este caso el llenado del formulario se realizará enviando elementos a traves de requestium y clickeando el botón de acceso."
   ]
  },
  {
   "cell_type": "markdown",
   "metadata": {},
   "source": [
    "#### Ejemplo"
   ]
  },
  {
   "cell_type": "code",
   "execution_count": 38,
   "metadata": {},
   "outputs": [],
   "source": [
    "#importando la librería\n",
    "from requestium import Session, Keys\n",
    "from scrapy.selector import Selector"
   ]
  },
  {
   "cell_type": "code",
   "execution_count": 44,
   "metadata": {},
   "outputs": [],
   "source": [
    "# iniciando \n",
    "s = Session(webdriver_path='./drivers/chromedriver.exe',\n",
    "            browser='chrome',#navegador\n",
    "            default_timeout=15 # tiempo de espera\n",
    "            #webdriver_options={'arguments': ['headless']} #-> sirve para manejar el navegador en modo silencioso\n",
    "           )"
   ]
  },
  {
   "cell_type": "code",
   "execution_count": 45,
   "metadata": {},
   "outputs": [],
   "source": [
    "#página a navegar\n",
    "url='http://quotes.toscrape.com/login'\n",
    "s.driver.get(url)"
   ]
  },
  {
   "cell_type": "code",
   "execution_count": 46,
   "metadata": {},
   "outputs": [],
   "source": [
    "#enviando elemtos para completar\n",
    "username='abc'\n",
    "password='123'\n",
    "s.driver.ensure_element_by_id('username').send_keys(username)\n",
    "s.driver.ensure_element_by_id('password').send_keys(password)"
   ]
  },
  {
   "cell_type": "code",
   "execution_count": 47,
   "metadata": {},
   "outputs": [],
   "source": [
    "#haciendo click en el boton login\n",
    "#Xpath selector\n",
    "s.driver.ensure_element_by_xpath('//input[@class=\"btn btn-primary\"]').click()"
   ]
  },
  {
   "cell_type": "code",
   "execution_count": 48,
   "metadata": {},
   "outputs": [],
   "source": [
    "#cerrar el navegador\n",
    "s.driver.quit()"
   ]
  },
  {
   "cell_type": "code",
   "execution_count": null,
   "metadata": {},
   "outputs": [],
   "source": []
  }
 ],
 "metadata": {
  "kernelspec": {
   "display_name": "Python 3",
   "language": "python",
   "name": "python3"
  },
  "language_info": {
   "codemirror_mode": {
    "name": "ipython",
    "version": 3
   },
   "file_extension": ".py",
   "mimetype": "text/x-python",
   "name": "python",
   "nbconvert_exporter": "python",
   "pygments_lexer": "ipython3",
   "version": "3.8.3"
  }
 },
 "nbformat": 4,
 "nbformat_minor": 4
}
