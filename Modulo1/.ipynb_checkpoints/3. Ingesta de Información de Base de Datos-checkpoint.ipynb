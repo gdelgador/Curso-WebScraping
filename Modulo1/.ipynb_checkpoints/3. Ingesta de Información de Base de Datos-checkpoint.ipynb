{
 "cells": [
  {
   "cell_type": "markdown",
   "metadata": {},
   "source": [
    "# 3. Ingesta de Información de Base de Datos"
   ]
  },
  {
   "cell_type": "markdown",
   "metadata": {},
   "source": [
    "Es probable que tengamos que ingestar información de base de datos para lo cual se utilizará la librería pyodbc y sqlalchemy."
   ]
  },
  {
   "cell_type": "markdown",
   "metadata": {},
   "source": [
    "<img src='./img/databases.png'>"
   ]
  },
  {
   "cell_type": "markdown",
   "metadata": {},
   "source": [
    "## Pasos para conectarse a una base de datos:\n",
    "- Establecer alguna forma de conexión\n",
    "- Establecer un query"
   ]
  },
  {
   "cell_type": "markdown",
   "metadata": {},
   "source": [
    "## sqlalchemy"
   ]
  },
  {
   "cell_type": "markdown",
   "metadata": {},
   "source": [
    "sqlalchemy's se encarga de la creación del la conexión con la base de datos\n",
    "- Require de formas de conexión tipo string para la conexión\n",
    "- **SQLite URL format:sqlite:///filename.db**"
   ]
  },
  {
   "cell_type": "code",
   "execution_count": null,
   "metadata": {},
   "outputs": [],
   "source": [
    "# lectura sobre pandas\n",
    "pd.read_sql(query, engine)"
   ]
  },
  {
   "cell_type": "code",
   "execution_count": 1,
   "metadata": {},
   "outputs": [
    {
     "data": {
      "text/plain": [
       "['boro_census', 'hpd311calls', 'weather']"
      ]
     },
     "execution_count": 1,
     "metadata": {},
     "output_type": "execute_result"
    }
   ],
   "source": [
    "import pandas as pd\n",
    "from sqlalchemy import create_engine\n",
    "\n",
    "# Creando database engine para establecer la conexión\n",
    "engine = create_engine(\"sqlite:///\"+'./datasets/data.db')\n",
    "# Visualizando tablas disponibles en database\n",
    "engine.table_names()"
   ]
  },
  {
   "cell_type": "code",
   "execution_count": 2,
   "metadata": {},
   "outputs": [
    {
     "data": {
      "text/html": [
       "<div>\n",
       "<style scoped>\n",
       "    .dataframe tbody tr th:only-of-type {\n",
       "        vertical-align: middle;\n",
       "    }\n",
       "\n",
       "    .dataframe tbody tr th {\n",
       "        vertical-align: top;\n",
       "    }\n",
       "\n",
       "    .dataframe thead th {\n",
       "        text-align: right;\n",
       "    }\n",
       "</style>\n",
       "<table border=\"1\" class=\"dataframe\">\n",
       "  <thead>\n",
       "    <tr style=\"text-align: right;\">\n",
       "      <th></th>\n",
       "      <th>station</th>\n",
       "      <th>name</th>\n",
       "      <th>latitude</th>\n",
       "      <th>longitude</th>\n",
       "      <th>elevation</th>\n",
       "      <th>date</th>\n",
       "      <th>month</th>\n",
       "      <th>awnd</th>\n",
       "      <th>prcp</th>\n",
       "      <th>snow</th>\n",
       "      <th>tavg</th>\n",
       "      <th>tmax</th>\n",
       "      <th>tmin</th>\n",
       "    </tr>\n",
       "  </thead>\n",
       "  <tbody>\n",
       "    <tr>\n",
       "      <th>0</th>\n",
       "      <td>USW00094728</td>\n",
       "      <td>NY CITY CENTRAL PARK, NY US</td>\n",
       "      <td>40.77898</td>\n",
       "      <td>-73.96925</td>\n",
       "      <td>42.7</td>\n",
       "      <td>12/01/2017</td>\n",
       "      <td>December</td>\n",
       "      <td>5.37</td>\n",
       "      <td>0.0</td>\n",
       "      <td>0.0</td>\n",
       "      <td></td>\n",
       "      <td>52</td>\n",
       "      <td>42</td>\n",
       "    </tr>\n",
       "    <tr>\n",
       "      <th>1</th>\n",
       "      <td>USW00094728</td>\n",
       "      <td>NY CITY CENTRAL PARK, NY US</td>\n",
       "      <td>40.77898</td>\n",
       "      <td>-73.96925</td>\n",
       "      <td>42.7</td>\n",
       "      <td>12/02/2017</td>\n",
       "      <td>December</td>\n",
       "      <td>3.13</td>\n",
       "      <td>0.0</td>\n",
       "      <td>0.0</td>\n",
       "      <td></td>\n",
       "      <td>48</td>\n",
       "      <td>39</td>\n",
       "    </tr>\n",
       "  </tbody>\n",
       "</table>\n",
       "</div>"
      ],
      "text/plain": [
       "       station                         name  latitude  longitude  elevation  \\\n",
       "0  USW00094728  NY CITY CENTRAL PARK, NY US  40.77898  -73.96925       42.7   \n",
       "1  USW00094728  NY CITY CENTRAL PARK, NY US  40.77898  -73.96925       42.7   \n",
       "\n",
       "         date     month  awnd  prcp  snow tavg  tmax  tmin  \n",
       "0  12/01/2017  December  5.37   0.0   0.0         52    42  \n",
       "1  12/02/2017  December  3.13   0.0   0.0         48    39  "
      ]
     },
     "execution_count": 2,
     "metadata": {},
     "output_type": "execute_result"
    }
   ],
   "source": [
    "# Cargando tabla weather a dataframe\n",
    "\n",
    "query='select * from weather'\n",
    "weather = pd.read_sql(query, engine)\n",
    "weather.head(2)"
   ]
  },
  {
   "cell_type": "code",
   "execution_count": 13,
   "metadata": {},
   "outputs": [],
   "source": [
    "with open('./consultas_sql/consulta1.sql') as f:\n",
    "#     data = f.read()\n",
    "    p = ''\n",
    "    for l in f.readlines():\n",
    "        p = p +' '+ l.strip()"
   ]
  },
  {
   "cell_type": "code",
   "execution_count": 17,
   "metadata": {},
   "outputs": [
    {
     "data": {
      "text/html": [
       "<div>\n",
       "<style scoped>\n",
       "    .dataframe tbody tr th:only-of-type {\n",
       "        vertical-align: middle;\n",
       "    }\n",
       "\n",
       "    .dataframe tbody tr th {\n",
       "        vertical-align: top;\n",
       "    }\n",
       "\n",
       "    .dataframe thead th {\n",
       "        text-align: right;\n",
       "    }\n",
       "</style>\n",
       "<table border=\"1\" class=\"dataframe\">\n",
       "  <thead>\n",
       "    <tr style=\"text-align: right;\">\n",
       "      <th></th>\n",
       "      <th>station</th>\n",
       "      <th>name</th>\n",
       "      <th>latitude</th>\n",
       "      <th>longitude</th>\n",
       "      <th>elevation</th>\n",
       "      <th>date</th>\n",
       "      <th>month</th>\n",
       "      <th>awnd</th>\n",
       "      <th>prcp</th>\n",
       "      <th>snow</th>\n",
       "      <th>tavg</th>\n",
       "      <th>tmax</th>\n",
       "      <th>tmin</th>\n",
       "    </tr>\n",
       "  </thead>\n",
       "  <tbody>\n",
       "    <tr>\n",
       "      <th>0</th>\n",
       "      <td>USW00094728</td>\n",
       "      <td>NY CITY CENTRAL PARK, NY US</td>\n",
       "      <td>40.77898</td>\n",
       "      <td>-73.96925</td>\n",
       "      <td>42.7</td>\n",
       "      <td>12/01/2017</td>\n",
       "      <td>December</td>\n",
       "      <td>5.37</td>\n",
       "      <td>0.0</td>\n",
       "      <td>0.0</td>\n",
       "      <td></td>\n",
       "      <td>52</td>\n",
       "      <td>42</td>\n",
       "    </tr>\n",
       "    <tr>\n",
       "      <th>1</th>\n",
       "      <td>USW00094728</td>\n",
       "      <td>NY CITY CENTRAL PARK, NY US</td>\n",
       "      <td>40.77898</td>\n",
       "      <td>-73.96925</td>\n",
       "      <td>42.7</td>\n",
       "      <td>12/02/2017</td>\n",
       "      <td>December</td>\n",
       "      <td>3.13</td>\n",
       "      <td>0.0</td>\n",
       "      <td>0.0</td>\n",
       "      <td></td>\n",
       "      <td>48</td>\n",
       "      <td>39</td>\n",
       "    </tr>\n",
       "  </tbody>\n",
       "</table>\n",
       "</div>"
      ],
      "text/plain": [
       "       station                         name  latitude  longitude  elevation  \\\n",
       "0  USW00094728  NY CITY CENTRAL PARK, NY US  40.77898  -73.96925       42.7   \n",
       "1  USW00094728  NY CITY CENTRAL PARK, NY US  40.77898  -73.96925       42.7   \n",
       "\n",
       "         date     month  awnd  prcp  snow tavg  tmax  tmin  \n",
       "0  12/01/2017  December  5.37   0.0   0.0         52    42  \n",
       "1  12/02/2017  December  3.13   0.0   0.0         48    39  "
      ]
     },
     "execution_count": 17,
     "metadata": {},
     "output_type": "execute_result"
    }
   ],
   "source": [
    "weather = pd.read_sql(p.strip(), engine)\n",
    "weather.head(2)"
   ]
  },
  {
   "cell_type": "code",
   "execution_count": null,
   "metadata": {},
   "outputs": [],
   "source": []
  },
  {
   "cell_type": "markdown",
   "metadata": {},
   "source": [
    "## pyodbc"
   ]
  },
  {
   "cell_type": "markdown",
   "metadata": {},
   "source": [
    "pyodbc es un módulo Python de código abierto que simplifica el acceso a las bases de datos ODBC."
   ]
  },
  {
   "cell_type": "code",
   "execution_count": 27,
   "metadata": {},
   "outputs": [],
   "source": [
    "import pyodbc as podbc\n",
    "import pandas as pd"
   ]
  },
  {
   "cell_type": "code",
   "execution_count": 31,
   "metadata": {},
   "outputs": [],
   "source": [
    "def conexion_sql_server(driver, server, database,username,password):\n",
    "    print(\"realizando conexion SQL\")\n",
    "    try:\n",
    "        connection = podbc.connect('DRIVER='+driver+\n",
    "                                    ';SERVER='+server+\n",
    "                                    ';DATABASE='+database+\n",
    "                                    ';UID='+username+\n",
    "                                    ';PWD='+ password)\n",
    "        print(\"exito!!\")\n",
    "        return connection\n",
    "    except Exception as e:\n",
    "        print(e)"
   ]
  },
  {
   "cell_type": "code",
   "execution_count": 29,
   "metadata": {},
   "outputs": [],
   "source": [
    "#función select to DF\n",
    "def select_to_df(sql_query, connection):\n",
    "   #conectando a la base de datos\n",
    "    try:\n",
    "        #pasanod info a df\n",
    "        df = pd.read_sql(sql_query, connection)\n",
    "    except Exception as e:\n",
    "        print(e)\n",
    "    return df"
   ]
  },
  {
   "cell_type": "code",
   "execution_count": 33,
   "metadata": {},
   "outputs": [],
   "source": [
    "driver = '{SQL Server Native Client 11.0}'\n",
    "server= 'localhost' \n",
    "database = 'AdventureWorks'\n",
    "username = 'gdelgadr'\n",
    "password = 'gdelgadr1'"
   ]
  },
  {
   "cell_type": "code",
   "execution_count": 24,
   "metadata": {},
   "outputs": [],
   "source": [
    "query='select * from AdventureWorks.Person.Person;'"
   ]
  },
  {
   "cell_type": "code",
   "execution_count": 34,
   "metadata": {},
   "outputs": [
    {
     "name": "stdout",
     "output_type": "stream",
     "text": [
      "realizando conexion SQL\n",
      "exito!!\n"
     ]
    }
   ],
   "source": [
    "connection = conexion_sql_server(driver, server, database,username,password)"
   ]
  },
  {
   "cell_type": "code",
   "execution_count": 35,
   "metadata": {},
   "outputs": [],
   "source": [
    " df= select_to_df(query, connection)"
   ]
  },
  {
   "cell_type": "code",
   "execution_count": 36,
   "metadata": {},
   "outputs": [
    {
     "data": {
      "text/html": [
       "<div>\n",
       "<style scoped>\n",
       "    .dataframe tbody tr th:only-of-type {\n",
       "        vertical-align: middle;\n",
       "    }\n",
       "\n",
       "    .dataframe tbody tr th {\n",
       "        vertical-align: top;\n",
       "    }\n",
       "\n",
       "    .dataframe thead th {\n",
       "        text-align: right;\n",
       "    }\n",
       "</style>\n",
       "<table border=\"1\" class=\"dataframe\">\n",
       "  <thead>\n",
       "    <tr style=\"text-align: right;\">\n",
       "      <th></th>\n",
       "      <th>BusinessEntityID</th>\n",
       "      <th>PersonType</th>\n",
       "      <th>NameStyle</th>\n",
       "      <th>Title</th>\n",
       "      <th>FirstName</th>\n",
       "      <th>MiddleName</th>\n",
       "      <th>LastName</th>\n",
       "      <th>Suffix</th>\n",
       "      <th>EmailPromotion</th>\n",
       "      <th>AdditionalContactInfo</th>\n",
       "      <th>Demographics</th>\n",
       "      <th>rowguid</th>\n",
       "      <th>ModifiedDate</th>\n",
       "    </tr>\n",
       "  </thead>\n",
       "  <tbody>\n",
       "    <tr>\n",
       "      <th>0</th>\n",
       "      <td>1</td>\n",
       "      <td>EM</td>\n",
       "      <td>False</td>\n",
       "      <td>None</td>\n",
       "      <td>Ken</td>\n",
       "      <td>J</td>\n",
       "      <td>Sánchez</td>\n",
       "      <td>None</td>\n",
       "      <td>0</td>\n",
       "      <td>None</td>\n",
       "      <td>&lt;IndividualSurvey xmlns=\"http://schemas.micros...</td>\n",
       "      <td>92C4279F-1207-48A3-8448-4636514EB7E2</td>\n",
       "      <td>2003-02-08</td>\n",
       "    </tr>\n",
       "    <tr>\n",
       "      <th>1</th>\n",
       "      <td>2</td>\n",
       "      <td>EM</td>\n",
       "      <td>False</td>\n",
       "      <td>None</td>\n",
       "      <td>Terri</td>\n",
       "      <td>Lee</td>\n",
       "      <td>Duffy</td>\n",
       "      <td>None</td>\n",
       "      <td>1</td>\n",
       "      <td>None</td>\n",
       "      <td>&lt;IndividualSurvey xmlns=\"http://schemas.micros...</td>\n",
       "      <td>D8763459-8AA8-47CC-AFF7-C9079AF79033</td>\n",
       "      <td>2002-02-24</td>\n",
       "    </tr>\n",
       "    <tr>\n",
       "      <th>2</th>\n",
       "      <td>3</td>\n",
       "      <td>EM</td>\n",
       "      <td>False</td>\n",
       "      <td>None</td>\n",
       "      <td>Roberto</td>\n",
       "      <td>None</td>\n",
       "      <td>Tamburello</td>\n",
       "      <td>None</td>\n",
       "      <td>0</td>\n",
       "      <td>None</td>\n",
       "      <td>&lt;IndividualSurvey xmlns=\"http://schemas.micros...</td>\n",
       "      <td>E1A2555E-0828-434B-A33B-6F38136A37DE</td>\n",
       "      <td>2001-12-05</td>\n",
       "    </tr>\n",
       "    <tr>\n",
       "      <th>3</th>\n",
       "      <td>4</td>\n",
       "      <td>EM</td>\n",
       "      <td>False</td>\n",
       "      <td>None</td>\n",
       "      <td>Rob</td>\n",
       "      <td>None</td>\n",
       "      <td>Walters</td>\n",
       "      <td>None</td>\n",
       "      <td>0</td>\n",
       "      <td>None</td>\n",
       "      <td>&lt;IndividualSurvey xmlns=\"http://schemas.micros...</td>\n",
       "      <td>F2D7CE06-38B3-4357-805B-F4B6B71C01FF</td>\n",
       "      <td>2001-12-29</td>\n",
       "    </tr>\n",
       "    <tr>\n",
       "      <th>4</th>\n",
       "      <td>5</td>\n",
       "      <td>EM</td>\n",
       "      <td>False</td>\n",
       "      <td>Ms.</td>\n",
       "      <td>Gail</td>\n",
       "      <td>A</td>\n",
       "      <td>Erickson</td>\n",
       "      <td>None</td>\n",
       "      <td>0</td>\n",
       "      <td>None</td>\n",
       "      <td>&lt;IndividualSurvey xmlns=\"http://schemas.micros...</td>\n",
       "      <td>F3A3F6B4-AE3B-430C-A754-9F2231BA6FEF</td>\n",
       "      <td>2002-01-30</td>\n",
       "    </tr>\n",
       "  </tbody>\n",
       "</table>\n",
       "</div>"
      ],
      "text/plain": [
       "   BusinessEntityID PersonType  NameStyle Title FirstName MiddleName  \\\n",
       "0                 1         EM      False  None       Ken          J   \n",
       "1                 2         EM      False  None     Terri        Lee   \n",
       "2                 3         EM      False  None   Roberto       None   \n",
       "3                 4         EM      False  None       Rob       None   \n",
       "4                 5         EM      False   Ms.      Gail          A   \n",
       "\n",
       "     LastName Suffix  EmailPromotion AdditionalContactInfo  \\\n",
       "0     Sánchez   None               0                  None   \n",
       "1       Duffy   None               1                  None   \n",
       "2  Tamburello   None               0                  None   \n",
       "3     Walters   None               0                  None   \n",
       "4    Erickson   None               0                  None   \n",
       "\n",
       "                                        Demographics  \\\n",
       "0  <IndividualSurvey xmlns=\"http://schemas.micros...   \n",
       "1  <IndividualSurvey xmlns=\"http://schemas.micros...   \n",
       "2  <IndividualSurvey xmlns=\"http://schemas.micros...   \n",
       "3  <IndividualSurvey xmlns=\"http://schemas.micros...   \n",
       "4  <IndividualSurvey xmlns=\"http://schemas.micros...   \n",
       "\n",
       "                                rowguid ModifiedDate  \n",
       "0  92C4279F-1207-48A3-8448-4636514EB7E2   2003-02-08  \n",
       "1  D8763459-8AA8-47CC-AFF7-C9079AF79033   2002-02-24  \n",
       "2  E1A2555E-0828-434B-A33B-6F38136A37DE   2001-12-05  \n",
       "3  F2D7CE06-38B3-4357-805B-F4B6B71C01FF   2001-12-29  \n",
       "4  F3A3F6B4-AE3B-430C-A754-9F2231BA6FEF   2002-01-30  "
      ]
     },
     "execution_count": 36,
     "metadata": {},
     "output_type": "execute_result"
    }
   ],
   "source": [
    "df.head()"
   ]
  },
  {
   "cell_type": "code",
   "execution_count": 40,
   "metadata": {},
   "outputs": [],
   "source": [
    "query2='select * from db_python..datos;'"
   ]
  },
  {
   "cell_type": "code",
   "execution_count": 41,
   "metadata": {},
   "outputs": [],
   "source": [
    " df_primary= select_to_df(query2, connection)"
   ]
  },
  {
   "cell_type": "code",
   "execution_count": 42,
   "metadata": {},
   "outputs": [
    {
     "data": {
      "text/html": [
       "<div>\n",
       "<style scoped>\n",
       "    .dataframe tbody tr th:only-of-type {\n",
       "        vertical-align: middle;\n",
       "    }\n",
       "\n",
       "    .dataframe tbody tr th {\n",
       "        vertical-align: top;\n",
       "    }\n",
       "\n",
       "    .dataframe thead th {\n",
       "        text-align: right;\n",
       "    }\n",
       "</style>\n",
       "<table border=\"1\" class=\"dataframe\">\n",
       "  <thead>\n",
       "    <tr style=\"text-align: right;\">\n",
       "      <th></th>\n",
       "      <th>state</th>\n",
       "      <th>state_abbreviation</th>\n",
       "      <th>county</th>\n",
       "      <th>fips</th>\n",
       "      <th>party</th>\n",
       "      <th>candidate</th>\n",
       "      <th>votes</th>\n",
       "      <th>fraction_votes</th>\n",
       "      <th>shape</th>\n",
       "      <th>letra_estado</th>\n",
       "      <th>FIPStxt</th>\n",
       "      <th>PCTPOVALL_2015</th>\n",
       "    </tr>\n",
       "  </thead>\n",
       "  <tbody>\n",
       "    <tr>\n",
       "      <th>0</th>\n",
       "      <td>Alabama</td>\n",
       "      <td>AL</td>\n",
       "      <td>Autauga</td>\n",
       "      <td>1001.0</td>\n",
       "      <td>Democrat</td>\n",
       "      <td>Bernie Sanders</td>\n",
       "      <td>544.0</td>\n",
       "      <td>0.182</td>\n",
       "      <td>1.0</td>\n",
       "      <td>A</td>\n",
       "      <td>1001.0</td>\n",
       "      <td>12.7</td>\n",
       "    </tr>\n",
       "    <tr>\n",
       "      <th>1</th>\n",
       "      <td>Alabama</td>\n",
       "      <td>AL</td>\n",
       "      <td>Autauga</td>\n",
       "      <td>1001.0</td>\n",
       "      <td>Democrat</td>\n",
       "      <td>Hillary Clinton</td>\n",
       "      <td>2387.0</td>\n",
       "      <td>0.800</td>\n",
       "      <td>1.0</td>\n",
       "      <td>A</td>\n",
       "      <td>1001.0</td>\n",
       "      <td>12.7</td>\n",
       "    </tr>\n",
       "    <tr>\n",
       "      <th>2</th>\n",
       "      <td>Alabama</td>\n",
       "      <td>AL</td>\n",
       "      <td>Autauga</td>\n",
       "      <td>1001.0</td>\n",
       "      <td>Republican</td>\n",
       "      <td>Ben Carson</td>\n",
       "      <td>1764.0</td>\n",
       "      <td>0.146</td>\n",
       "      <td>1.0</td>\n",
       "      <td>A</td>\n",
       "      <td>1001.0</td>\n",
       "      <td>12.7</td>\n",
       "    </tr>\n",
       "    <tr>\n",
       "      <th>3</th>\n",
       "      <td>Alabama</td>\n",
       "      <td>AL</td>\n",
       "      <td>Autauga</td>\n",
       "      <td>1001.0</td>\n",
       "      <td>Republican</td>\n",
       "      <td>Donald Trump</td>\n",
       "      <td>5387.0</td>\n",
       "      <td>0.445</td>\n",
       "      <td>1.0</td>\n",
       "      <td>A</td>\n",
       "      <td>1001.0</td>\n",
       "      <td>12.7</td>\n",
       "    </tr>\n",
       "    <tr>\n",
       "      <th>4</th>\n",
       "      <td>Alabama</td>\n",
       "      <td>AL</td>\n",
       "      <td>Autauga</td>\n",
       "      <td>1001.0</td>\n",
       "      <td>Republican</td>\n",
       "      <td>John Kasich</td>\n",
       "      <td>421.0</td>\n",
       "      <td>0.035</td>\n",
       "      <td>1.0</td>\n",
       "      <td>A</td>\n",
       "      <td>1001.0</td>\n",
       "      <td>12.7</td>\n",
       "    </tr>\n",
       "  </tbody>\n",
       "</table>\n",
       "</div>"
      ],
      "text/plain": [
       "     state state_abbreviation   county    fips       party        candidate  \\\n",
       "0  Alabama                 AL  Autauga  1001.0    Democrat   Bernie Sanders   \n",
       "1  Alabama                 AL  Autauga  1001.0    Democrat  Hillary Clinton   \n",
       "2  Alabama                 AL  Autauga  1001.0  Republican       Ben Carson   \n",
       "3  Alabama                 AL  Autauga  1001.0  Republican     Donald Trump   \n",
       "4  Alabama                 AL  Autauga  1001.0  Republican      John Kasich   \n",
       "\n",
       "    votes  fraction_votes  shape letra_estado  FIPStxt  PCTPOVALL_2015  \n",
       "0   544.0           0.182    1.0            A   1001.0            12.7  \n",
       "1  2387.0           0.800    1.0            A   1001.0            12.7  \n",
       "2  1764.0           0.146    1.0            A   1001.0            12.7  \n",
       "3  5387.0           0.445    1.0            A   1001.0            12.7  \n",
       "4   421.0           0.035    1.0            A   1001.0            12.7  "
      ]
     },
     "execution_count": 42,
     "metadata": {},
     "output_type": "execute_result"
    }
   ],
   "source": [
    "df_primary.head()"
   ]
  },
  {
   "cell_type": "code",
   "execution_count": null,
   "metadata": {},
   "outputs": [],
   "source": []
  },
  {
   "cell_type": "markdown",
   "metadata": {},
   "source": [
    "### Para Investigar"
   ]
  },
  {
   "cell_type": "markdown",
   "metadata": {},
   "source": [
    "- [Python odbc documentation](https://github.com/mkleehammer/pyodbc/wiki)\n",
    "- [SQLAlchemy  documentation](https://docs.sqlalchemy.org/en/13/)"
   ]
  }
 ],
 "metadata": {
  "kernelspec": {
   "display_name": "Python 3",
   "language": "python",
   "name": "python3"
  },
  "language_info": {
   "codemirror_mode": {
    "name": "ipython",
    "version": 3
   },
   "file_extension": ".py",
   "mimetype": "text/x-python",
   "name": "python",
   "nbconvert_exporter": "python",
   "pygments_lexer": "ipython3",
   "version": "3.8.3"
  }
 },
 "nbformat": 4,
 "nbformat_minor": 4
}
