{
 "cells": [
  {
   "cell_type": "markdown",
   "metadata": {},
   "source": [
    "# 4. Archivos Json y API's"
   ]
  },
  {
   "cell_type": "markdown",
   "metadata": {},
   "source": [
    "## Javascript Object Notation (JSON)"
   ]
  },
  {
   "cell_type": "markdown",
   "metadata": {},
   "source": [
    "- Es una notación común para data web\n",
    "- No tabular:\n",
    "     - Registros no tienen todos el mismo conjunto de atributos\n",
    "- Datos se encuentran organizados en colecciones de objetos\n",
    "- Objectos son colecciones de atributos clave : valor\n",
    "- Json nested: objectos se encuentran anidados"
   ]
  },
  {
   "cell_type": "markdown",
   "metadata": {},
   "source": [
    "#### Tipos de Archivo Json"
   ]
  },
  {
   "cell_type": "markdown",
   "metadata": {},
   "source": [
    "- **Record Orientation**: JSON más común\n",
    "\n",
    "<img src='./img/json_record_orientation.png' width=\"600\" height=\"1000\">"
   ]
  },
  {
   "cell_type": "markdown",
   "metadata": {},
   "source": [
    "- **Column Orientation**: Uso de espación más eficiente que en record Orientation\n",
    "\n",
    "<img src='./img/json_column_orientation.png' width=\"300\" height=\"500\">"
   ]
  },
  {
   "cell_type": "markdown",
   "metadata": {},
   "source": [
    "- **Specifying Orientation**: Divide orientation data\n",
    "\n",
    "<img src='./img/json_specify_orientation.png' width=\"300\" height=\"500\">"
   ]
  },
  {
   "cell_type": "markdown",
   "metadata": {},
   "source": [
    "#### Lectura de Archivo Json con Pandas"
   ]
  },
  {
   "cell_type": "code",
   "execution_count": 46,
   "metadata": {},
   "outputs": [
    {
     "data": {
      "text/html": [
       "<div>\n",
       "<style scoped>\n",
       "    .dataframe tbody tr th:only-of-type {\n",
       "        vertical-align: middle;\n",
       "    }\n",
       "\n",
       "    .dataframe tbody tr th {\n",
       "        vertical-align: top;\n",
       "    }\n",
       "\n",
       "    .dataframe thead th {\n",
       "        text-align: right;\n",
       "    }\n",
       "</style>\n",
       "<table border=\"1\" class=\"dataframe\">\n",
       "  <thead>\n",
       "    <tr style=\"text-align: right;\">\n",
       "      <th></th>\n",
       "      <th>_id</th>\n",
       "      <th>Description</th>\n",
       "      <th>TypeLevel1</th>\n",
       "      <th>Currency</th>\n",
       "      <th>Operational</th>\n",
       "      <th>TypeLevel2</th>\n",
       "      <th>Settlement</th>\n",
       "      <th>SCSP</th>\n",
       "      <th>BBT</th>\n",
       "      <th>TCK</th>\n",
       "      <th>SMCP</th>\n",
       "      <th>SMCP2</th>\n",
       "    </tr>\n",
       "  </thead>\n",
       "  <tbody>\n",
       "    <tr>\n",
       "      <th>0</th>\n",
       "      <td>26</td>\n",
       "      <td>10 YEAR</td>\n",
       "      <td>INTEREST</td>\n",
       "      <td>USD</td>\n",
       "      <td>True</td>\n",
       "      <td>LONG</td>\n",
       "      <td>90</td>\n",
       "      <td>Rajna</td>\n",
       "      <td>CITITYM9</td>\n",
       "      <td>ZN</td>\n",
       "      <td>1</td>\n",
       "      <td>2</td>\n",
       "    </tr>\n",
       "    <tr>\n",
       "      <th>1</th>\n",
       "      <td>27</td>\n",
       "      <td>5 YEAR</td>\n",
       "      <td>PRINCIPAL</td>\n",
       "      <td>GNP</td>\n",
       "      <td>False</td>\n",
       "      <td>LONG</td>\n",
       "      <td>40</td>\n",
       "      <td>Paus</td>\n",
       "      <td>CITITYM10</td>\n",
       "      <td>PY</td>\n",
       "      <td>5</td>\n",
       "      <td>9</td>\n",
       "    </tr>\n",
       "  </tbody>\n",
       "</table>\n",
       "</div>"
      ],
      "text/plain": [
       "   _id Description TypeLevel1 Currency  Operational TypeLevel2  Settlement  \\\n",
       "0   26     10 YEAR   INTEREST      USD         True       LONG          90   \n",
       "1   27      5 YEAR  PRINCIPAL      GNP        False       LONG          40   \n",
       "\n",
       "    SCSP        BBT TCK  SMCP  SMCP2  \n",
       "0  Rajna   CITITYM9  ZN     1      2  \n",
       "1   Paus  CITITYM10  PY     5      9  "
      ]
     },
     "execution_count": 46,
     "metadata": {},
     "output_type": "execute_result"
    }
   ],
   "source": [
    "import pandas as pd\n",
    "\n",
    "death_causes = pd.read_json(\"./datasets/example.json\",\n",
    "                             orient=\"records\"\n",
    "                           )\n",
    "death_causes.head(2)"
   ]
  },
  {
   "cell_type": "markdown",
   "metadata": {},
   "source": [
    "## Introducción al uso de API's"
   ]
  },
  {
   "cell_type": "markdown",
   "metadata": {},
   "source": [
    "- Define como una aplicación se comunica con otros programas\n",
    "- Es una forma de obtener data sin conocer detalles de la base de datos"
   ]
  },
  {
   "cell_type": "markdown",
   "metadata": {},
   "source": [
    "<img src='./img/api.png' width=\"500\" height=\"700\">"
   ]
  },
  {
   "cell_type": "markdown",
   "metadata": {},
   "source": [
    "Para poder estos datos una forma general de hacerlo es usando la libreria <code>request</code>"
   ]
  },
  {
   "cell_type": "markdown",
   "metadata": {},
   "source": [
    "#### Request\n",
    "\n",
    "- Envía y obtiene datos de una página web\n",
    "- No se encuentra vinculado a un api en particular\n",
    "- <code>request.get(url_string)</code> para obtener data de una url en particular\n"
   ]
  },
  {
   "cell_type": "code",
   "execution_count": 70,
   "metadata": {},
   "outputs": [],
   "source": [
    "def read_file(filename):\n",
    "    with open(filename) as f:\n",
    "        api=f.readlines()\n",
    "        return api"
   ]
  },
  {
   "cell_type": "code",
   "execution_count": 75,
   "metadata": {},
   "outputs": [],
   "source": [
    "API_KEY_WEATHER=read_file('weather_api.txt')[0]"
   ]
  },
  {
   "cell_type": "code",
   "execution_count": 76,
   "metadata": {},
   "outputs": [],
   "source": [
    "import requests\n",
    "\n",
    "# api gratuita: https://home.openweathermap.org/\n",
    "# documentacion: https://openweathermap.org/api\n",
    "\n",
    "weather_json = requests.get(\"http://api.openweathermap.org/data/2.5/weather?q=London,uk&APPID={}\".format(API_KEY_WEATHER))\n",
    "# weather_api_data=json.loads(weather_json.text)"
   ]
  },
  {
   "cell_type": "code",
   "execution_count": 77,
   "metadata": {},
   "outputs": [],
   "source": [
    "data=weather_json.json()"
   ]
  },
  {
   "cell_type": "code",
   "execution_count": 78,
   "metadata": {},
   "outputs": [
    {
     "data": {
      "text/plain": [
       "{'coord': {'lon': -0.13, 'lat': 51.51},\n",
       " 'weather': [{'id': 804,\n",
       "   'main': 'Clouds',\n",
       "   'description': 'overcast clouds',\n",
       "   'icon': '04n'}],\n",
       " 'base': 'stations',\n",
       " 'main': {'temp': 283.59,\n",
       "  'feels_like': 278.77,\n",
       "  'temp_min': 283.15,\n",
       "  'temp_max': 284.26,\n",
       "  'pressure': 1012,\n",
       "  'humidity': 83},\n",
       " 'visibility': 10000,\n",
       " 'wind': {'speed': 6.11, 'deg': 235},\n",
       " 'clouds': {'all': 100},\n",
       " 'dt': 1604176569,\n",
       " 'sys': {'type': 3,\n",
       "  'id': 2019646,\n",
       "  'country': 'GB',\n",
       "  'sunrise': 1604127167,\n",
       "  'sunset': 1604162119},\n",
       " 'timezone': 0,\n",
       " 'id': 2643743,\n",
       " 'name': 'London',\n",
       " 'cod': 200}"
      ]
     },
     "execution_count": 78,
     "metadata": {},
     "output_type": "execute_result"
    }
   ],
   "source": [
    "data"
   ]
  },
  {
   "cell_type": "code",
   "execution_count": 61,
   "metadata": {},
   "outputs": [
    {
     "data": {
      "text/html": [
       "<div>\n",
       "<style scoped>\n",
       "    .dataframe tbody tr th:only-of-type {\n",
       "        vertical-align: middle;\n",
       "    }\n",
       "\n",
       "    .dataframe tbody tr th {\n",
       "        vertical-align: top;\n",
       "    }\n",
       "\n",
       "    .dataframe thead th {\n",
       "        text-align: right;\n",
       "    }\n",
       "</style>\n",
       "<table border=\"1\" class=\"dataframe\">\n",
       "  <thead>\n",
       "    <tr style=\"text-align: right;\">\n",
       "      <th></th>\n",
       "      <th>0</th>\n",
       "      <th>1</th>\n",
       "    </tr>\n",
       "  </thead>\n",
       "  <tbody>\n",
       "    <tr>\n",
       "      <th>0</th>\n",
       "      <td>coord</td>\n",
       "      <td>{'lon': -0.13, 'lat': 51.51}</td>\n",
       "    </tr>\n",
       "    <tr>\n",
       "      <th>1</th>\n",
       "      <td>weather</td>\n",
       "      <td>[{'id': 804, 'main': 'Clouds', 'description': ...</td>\n",
       "    </tr>\n",
       "  </tbody>\n",
       "</table>\n",
       "</div>"
      ],
      "text/plain": [
       "         0                                                  1\n",
       "0    coord                       {'lon': -0.13, 'lat': 51.51}\n",
       "1  weather  [{'id': 804, 'main': 'Clouds', 'description': ..."
      ]
     },
     "execution_count": 61,
     "metadata": {},
     "output_type": "execute_result"
    }
   ],
   "source": [
    "df = pd.DataFrame(data.items())\n",
    "df.head(2)"
   ]
  },
  {
   "cell_type": "code",
   "execution_count": null,
   "metadata": {},
   "outputs": [],
   "source": []
  },
  {
   "cell_type": "code",
   "execution_count": null,
   "metadata": {},
   "outputs": [],
   "source": []
  },
  {
   "cell_type": "markdown",
   "metadata": {},
   "source": [
    "#### Parámetros <code>request.get(url_string)</code>"
   ]
  },
  {
   "cell_type": "markdown",
   "metadata": {},
   "source": [
    "Este método presenta algunos parámetros admisibles como:\n",
    "\n",
    "- Keywords arguments:\n",
    "    - **params**: permite pasar un diccionario de la llave y el valor del API\n",
    "    - **headers**: similar al anterior pero este método debe ser usado para autenticarse con el API.\n",
    "- La respuesta obtenida será un objeto <code>response</code> el cual contendrá data y metadata.\n",
    "    - <code>response.json()</code> nos brindará solo la data"
   ]
  },
  {
   "cell_type": "markdown",
   "metadata": {},
   "source": [
    "### Ejemplo 1"
   ]
  },
  {
   "cell_type": "code",
   "execution_count": 30,
   "metadata": {},
   "outputs": [],
   "source": [
    "# data: https://catalog.data.gov/dataset/dhs-daily-report-6287f/resource/7017d18e-6da6-4156-93f8-be9be3cfd2e7\n",
    "url='https://data.cityofnewyork.us/api/views/k46n-sa2m/rows.json?accessType=DOWNLOAD'\n",
    "import requests\n",
    "\n",
    "response = requests.get(url)\n",
    "\n"
   ]
  },
  {
   "cell_type": "code",
   "execution_count": 35,
   "metadata": {},
   "outputs": [],
   "source": [
    "data = response.json()"
   ]
  },
  {
   "cell_type": "code",
   "execution_count": 44,
   "metadata": {},
   "outputs": [
    {
     "data": {
      "text/plain": [
       "dict_keys(['id', 'name', 'assetType', 'attribution', 'attributionLink', 'averageRating', 'category', 'createdAt', 'description', 'displayType', 'downloadCount', 'hideFromCatalog', 'hideFromDataJson', 'indexUpdatedAt', 'newBackend', 'numberOfComments', 'oid', 'provenance', 'publicationAppendEnabled', 'publicationDate', 'publicationGroup', 'publicationStage', 'rowsUpdatedAt', 'rowsUpdatedBy', 'tableId', 'totalTimesRated', 'viewCount', 'viewLastModified', 'viewType', 'approvals', 'columns', 'grants', 'metadata', 'owner', 'query', 'rights', 'tableAuthor', 'tags', 'flags'])"
      ]
     },
     "execution_count": 44,
     "metadata": {},
     "output_type": "execute_result"
    }
   ],
   "source": [
    "data['meta']['view'].keys()"
   ]
  },
  {
   "cell_type": "code",
   "execution_count": 45,
   "metadata": {},
   "outputs": [
    {
     "data": {
      "text/html": [
       "<div>\n",
       "<style scoped>\n",
       "    .dataframe tbody tr th:only-of-type {\n",
       "        vertical-align: middle;\n",
       "    }\n",
       "\n",
       "    .dataframe tbody tr th {\n",
       "        vertical-align: top;\n",
       "    }\n",
       "\n",
       "    .dataframe thead th {\n",
       "        text-align: right;\n",
       "    }\n",
       "</style>\n",
       "<table border=\"1\" class=\"dataframe\">\n",
       "  <thead>\n",
       "    <tr style=\"text-align: right;\">\n",
       "      <th></th>\n",
       "      <th>0</th>\n",
       "      <th>1</th>\n",
       "      <th>2</th>\n",
       "      <th>3</th>\n",
       "      <th>4</th>\n",
       "      <th>5</th>\n",
       "      <th>6</th>\n",
       "      <th>7</th>\n",
       "      <th>8</th>\n",
       "      <th>9</th>\n",
       "      <th>...</th>\n",
       "      <th>11</th>\n",
       "      <th>12</th>\n",
       "      <th>13</th>\n",
       "      <th>14</th>\n",
       "      <th>15</th>\n",
       "      <th>16</th>\n",
       "      <th>17</th>\n",
       "      <th>18</th>\n",
       "      <th>19</th>\n",
       "      <th>20</th>\n",
       "    </tr>\n",
       "  </thead>\n",
       "  <tbody>\n",
       "    <tr>\n",
       "      <th>0</th>\n",
       "      <td>row-qjgc~2jbe.6unm</td>\n",
       "      <td>00000000-0000-0000-659B-18395000D68B</td>\n",
       "      <td>0</td>\n",
       "      <td>1597859572</td>\n",
       "      <td>None</td>\n",
       "      <td>1597859572</td>\n",
       "      <td>None</td>\n",
       "      <td>{ }</td>\n",
       "      <td>2020-02-11T00:00:00</td>\n",
       "      <td>38032</td>\n",
       "      <td>...</td>\n",
       "      <td>58900</td>\n",
       "      <td>12522</td>\n",
       "      <td>4702</td>\n",
       "      <td>17224</td>\n",
       "      <td>11627</td>\n",
       "      <td>15613</td>\n",
       "      <td>20868</td>\n",
       "      <td>36481</td>\n",
       "      <td>2463</td>\n",
       "      <td>5195</td>\n",
       "    </tr>\n",
       "    <tr>\n",
       "      <th>1</th>\n",
       "      <td>row-ttsa_3beg-g3j2</td>\n",
       "      <td>00000000-0000-0000-8D27-3D0E5719F6D3</td>\n",
       "      <td>0</td>\n",
       "      <td>1597859572</td>\n",
       "      <td>None</td>\n",
       "      <td>1597859572</td>\n",
       "      <td>None</td>\n",
       "      <td>{ }</td>\n",
       "      <td>2020-02-12T00:00:00</td>\n",
       "      <td>38013</td>\n",
       "      <td>...</td>\n",
       "      <td>58863</td>\n",
       "      <td>12504</td>\n",
       "      <td>4710</td>\n",
       "      <td>17214</td>\n",
       "      <td>11613</td>\n",
       "      <td>15592</td>\n",
       "      <td>20850</td>\n",
       "      <td>36442</td>\n",
       "      <td>2470</td>\n",
       "      <td>5207</td>\n",
       "    </tr>\n",
       "  </tbody>\n",
       "</table>\n",
       "<p>2 rows × 21 columns</p>\n",
       "</div>"
      ],
      "text/plain": [
       "                   0                                     1   2           3   \\\n",
       "0  row-qjgc~2jbe.6unm  00000000-0000-0000-659B-18395000D68B   0  1597859572   \n",
       "1  row-ttsa_3beg-g3j2  00000000-0000-0000-8D27-3D0E5719F6D3   0  1597859572   \n",
       "\n",
       "     4           5     6    7                    8      9   ...     11     12  \\\n",
       "0  None  1597859572  None  { }  2020-02-11T00:00:00  38032  ...  58900  12522   \n",
       "1  None  1597859572  None  { }  2020-02-12T00:00:00  38013  ...  58863  12504   \n",
       "\n",
       "     13     14     15     16     17     18    19    20  \n",
       "0  4702  17224  11627  15613  20868  36481  2463  5195  \n",
       "1  4710  17214  11613  15592  20850  36442  2470  5207  \n",
       "\n",
       "[2 rows x 21 columns]"
      ]
     },
     "execution_count": 45,
     "metadata": {},
     "output_type": "execute_result"
    }
   ],
   "source": [
    "df_dhs_daily_report = pd.DataFrame(data['data'])\n",
    "df_dhs_daily_report.head(2)"
   ]
  },
  {
   "cell_type": "code",
   "execution_count": null,
   "metadata": {},
   "outputs": [],
   "source": []
  },
  {
   "cell_type": "markdown",
   "metadata": {},
   "source": [
    "### Ejemplo 2"
   ]
  },
  {
   "cell_type": "markdown",
   "metadata": {},
   "source": [
    "Yelp es una empresa pública estadounidense con sede en San Francisco, California. La compañía desarrolla, aloja y comercializa el sitio web de Yelp.com y la aplicación móvil de Yelp, que publican reseñas de empresas de fuentes públicas. También opera un servicio de reservas en línea llamado Reservas de Yelp"
   ]
  },
  {
   "cell_type": "code",
   "execution_count": null,
   "metadata": {},
   "outputs": [],
   "source": [
    "# obtener API access: https://rapidapi.com/blog/yelp-fusion-api-profile-pull-local-business-data/?utm_source=google&utm_medium=cpc&utm_campaign=DSA&gclid=Cj0KCQjwlvT8BRDeARIsAACRFiWVp-3OcJVj9IGyxHIeZwa6Abn5VqM55qhjnMyONKZ5-btXIu8a9VQaAtaZEALw_wcB"
   ]
  },
  {
   "cell_type": "code",
   "execution_count": 79,
   "metadata": {},
   "outputs": [],
   "source": [
    "API_KEY_YELP = read_file('yelp_api.txt')[1]"
   ]
  },
  {
   "cell_type": "code",
   "execution_count": 80,
   "metadata": {},
   "outputs": [],
   "source": [
    "# documentacion: https://www.yelp.com/developers/documentation/v3/business_search\n",
    "\n",
    "import requests \n",
    "api_url = \"https://api.yelp.com/v3/businesses/search\"\n",
    "\n",
    "# Colocando parámetros según documentación del sitio\n",
    "params = {\"term\": \"bookstore\", #termino a buscar\n",
    "            \"location\": \"San Francisco\" # locacion\n",
    "         }\n",
    "headers = {\"Authorization\": \"Bearer {}\".format(API_KEY_YELP)}"
   ]
  },
  {
   "cell_type": "code",
   "execution_count": 81,
   "metadata": {},
   "outputs": [
    {
     "name": "stdout",
     "output_type": "stream",
     "text": [
      "id                object\n",
      "alias             object\n",
      "name              object\n",
      "image_url         object\n",
      "is_closed           bool\n",
      "url               object\n",
      "review_count       int64\n",
      "categories        object\n",
      "rating           float64\n",
      "coordinates       object\n",
      "transactions      object\n",
      "price             object\n",
      "location          object\n",
      "phone             object\n",
      "display_phone     object\n",
      "distance         float64\n",
      "dtype: object\n"
     ]
    }
   ],
   "source": [
    "response = requests.get(api_url, \n",
    "                headers=headers, \n",
    "                params=params)\n",
    "\n",
    "# Extraigo JSON data de response\n",
    "data = response.json()"
   ]
  },
  {
   "cell_type": "code",
   "execution_count": null,
   "metadata": {},
   "outputs": [],
   "source": [
    "# Cargando data a dataframe\n",
    "df_yelp = pd.DataFrame(data[\"businesses\"])\n",
    "df_yelp.head(2)\n"
   ]
  },
  {
   "cell_type": "code",
   "execution_count": null,
   "metadata": {},
   "outputs": [],
   "source": [
    "# Visualizando tipo de datos de la respuesta\n",
    "print(df_yelp.dtypes)"
   ]
  },
  {
   "cell_type": "markdown",
   "metadata": {},
   "source": [
    "## Trabajando con Nested JSON"
   ]
  },
  {
   "cell_type": "markdown",
   "metadata": {},
   "source": [
    "- JSON contiene atributos clave - valor\n",
    "- JSON es nested es cuando el valor es un objeto"
   ]
  },
  {
   "cell_type": "markdown",
   "metadata": {},
   "source": [
    "<img src='./img/json_nested.png' width=\"500\" height=\"700\">"
   ]
  },
  {
   "cell_type": "code",
   "execution_count": null,
   "metadata": {},
   "outputs": [],
   "source": []
  },
  {
   "cell_type": "code",
   "execution_count": null,
   "metadata": {},
   "outputs": [],
   "source": []
  },
  {
   "cell_type": "markdown",
   "metadata": {},
   "source": [
    "## Recursos Adicionales"
   ]
  },
  {
   "cell_type": "markdown",
   "metadata": {},
   "source": [
    "- https://kanoki.org/2019/12/12/how-to-work-with-json-in-pandas/"
   ]
  }
 ],
 "metadata": {
  "kernelspec": {
   "display_name": "Python 3",
   "language": "python",
   "name": "python3"
  },
  "language_info": {
   "codemirror_mode": {
    "name": "ipython",
    "version": 3
   },
   "file_extension": ".py",
   "mimetype": "text/x-python",
   "name": "python",
   "nbconvert_exporter": "python",
   "pygments_lexer": "ipython3",
   "version": "3.8.3"
  }
 },
 "nbformat": 4,
 "nbformat_minor": 4
}
