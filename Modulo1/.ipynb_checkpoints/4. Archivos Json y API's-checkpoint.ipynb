{
 "cells": [
  {
   "cell_type": "markdown",
   "metadata": {},
   "source": [
    "# 4. Archivos Json y API's"
   ]
  },
  {
   "cell_type": "markdown",
   "metadata": {},
   "source": [
    "## Javascript Object Notation (JSON)"
   ]
  },
  {
   "cell_type": "markdown",
   "metadata": {},
   "source": [
    "- Es una notación común para data web\n",
    "- No tabular:\n",
    "     - Registros no tienen todos el mismo conjunto de atributos\n",
    "- Datos se encuentran organizados en colecciones de objetos\n",
    "- Objectos son colecciones de atributos clave : valor\n",
    "- Json nested: objectos se encuentran anidados"
   ]
  },
  {
   "cell_type": "markdown",
   "metadata": {},
   "source": [
    "#### Tipos de Archivo Json"
   ]
  },
  {
   "cell_type": "markdown",
   "metadata": {},
   "source": [
    "- **Record Orientation**: JSON más común\n",
    "\n",
    "<img src='./img/json_record_orientation.png' width=\"600\" height=\"1000\">"
   ]
  },
  {
   "cell_type": "markdown",
   "metadata": {},
   "source": [
    "- **Column Orientation**: Uso de espación más eficiente que en record Orientation\n",
    "\n",
    "<img src='./img/json_column_orientation.png' width=\"300\" height=\"500\">"
   ]
  },
  {
   "cell_type": "markdown",
   "metadata": {},
   "source": [
    "- **Specifying Orientation**: Divide orientation data\n",
    "\n",
    "<img src='./img/json_specify_orientation.png' width=\"300\" height=\"500\">"
   ]
  },
  {
   "cell_type": "markdown",
   "metadata": {},
   "source": [
    "#### Lectura de Archivo Json con Pandas"
   ]
  },
  {
   "cell_type": "code",
   "execution_count": 1,
   "metadata": {},
   "outputs": [
    {
     "data": {
      "text/html": [
       "<div>\n",
       "<style scoped>\n",
       "    .dataframe tbody tr th:only-of-type {\n",
       "        vertical-align: middle;\n",
       "    }\n",
       "\n",
       "    .dataframe tbody tr th {\n",
       "        vertical-align: top;\n",
       "    }\n",
       "\n",
       "    .dataframe thead th {\n",
       "        text-align: right;\n",
       "    }\n",
       "</style>\n",
       "<table border=\"1\" class=\"dataframe\">\n",
       "  <thead>\n",
       "    <tr style=\"text-align: right;\">\n",
       "      <th></th>\n",
       "      <th>_id</th>\n",
       "      <th>Description</th>\n",
       "      <th>TypeLevel1</th>\n",
       "      <th>Currency</th>\n",
       "      <th>Operational</th>\n",
       "      <th>TypeLevel2</th>\n",
       "      <th>Settlement</th>\n",
       "      <th>SCSP</th>\n",
       "      <th>BBT</th>\n",
       "      <th>TCK</th>\n",
       "      <th>SMCP</th>\n",
       "      <th>SMCP2</th>\n",
       "    </tr>\n",
       "  </thead>\n",
       "  <tbody>\n",
       "    <tr>\n",
       "      <th>0</th>\n",
       "      <td>26</td>\n",
       "      <td>10 YEAR</td>\n",
       "      <td>INTEREST</td>\n",
       "      <td>USD</td>\n",
       "      <td>True</td>\n",
       "      <td>LONG</td>\n",
       "      <td>90</td>\n",
       "      <td>Rajna</td>\n",
       "      <td>CITITYM9</td>\n",
       "      <td>ZN</td>\n",
       "      <td>1</td>\n",
       "      <td>2</td>\n",
       "    </tr>\n",
       "    <tr>\n",
       "      <th>1</th>\n",
       "      <td>27</td>\n",
       "      <td>5 YEAR</td>\n",
       "      <td>PRINCIPAL</td>\n",
       "      <td>GNP</td>\n",
       "      <td>False</td>\n",
       "      <td>LONG</td>\n",
       "      <td>40</td>\n",
       "      <td>Paus</td>\n",
       "      <td>CITITYM10</td>\n",
       "      <td>PY</td>\n",
       "      <td>5</td>\n",
       "      <td>9</td>\n",
       "    </tr>\n",
       "  </tbody>\n",
       "</table>\n",
       "</div>"
      ],
      "text/plain": [
       "   _id Description TypeLevel1 Currency  Operational TypeLevel2  Settlement  \\\n",
       "0   26     10 YEAR   INTEREST      USD         True       LONG          90   \n",
       "1   27      5 YEAR  PRINCIPAL      GNP        False       LONG          40   \n",
       "\n",
       "    SCSP        BBT TCK  SMCP  SMCP2  \n",
       "0  Rajna   CITITYM9  ZN     1      2  \n",
       "1   Paus  CITITYM10  PY     5      9  "
      ]
     },
     "execution_count": 1,
     "metadata": {},
     "output_type": "execute_result"
    }
   ],
   "source": [
    "import pandas as pd\n",
    "\n",
    "death_causes = pd.read_json(\"./datasets/example.json\",\n",
    "                             orient=\"records\"\n",
    "                           )\n",
    "death_causes.head(2)"
   ]
  },
  {
   "cell_type": "markdown",
   "metadata": {},
   "source": [
    "## Introducción al uso de API's"
   ]
  },
  {
   "cell_type": "markdown",
   "metadata": {},
   "source": [
    "- Define como una aplicación se comunica con otros programas\n",
    "- Es una forma de obtener data sin conocer detalles de la base de datos"
   ]
  },
  {
   "cell_type": "markdown",
   "metadata": {},
   "source": [
    "<img src='./img/api.png' width=\"500\" height=\"700\">"
   ]
  },
  {
   "cell_type": "markdown",
   "metadata": {},
   "source": [
    "Para poder estos datos una forma general de hacerlo es usando la libreria <code>request</code>"
   ]
  },
  {
   "cell_type": "markdown",
   "metadata": {},
   "source": [
    "#### Request\n",
    "\n",
    "- Envía y obtiene datos de una página web\n",
    "- No se encuentra vinculado a un api en particular\n",
    "- <code>request.get(url_string)</code> para obtener data de una url en particular\n"
   ]
  },
  {
   "cell_type": "code",
   "execution_count": 2,
   "metadata": {},
   "outputs": [],
   "source": [
    "def read_file(filename):\n",
    "    with open(filename) as f:\n",
    "        api=f.readlines()\n",
    "        return api"
   ]
  },
  {
   "cell_type": "markdown",
   "metadata": {},
   "source": [
    "#### Open Weathermap"
   ]
  },
  {
   "cell_type": "code",
   "execution_count": 3,
   "metadata": {},
   "outputs": [],
   "source": [
    "API_KEY_WEATHER=read_file('weather_api.txt')[0]"
   ]
  },
  {
   "cell_type": "code",
   "execution_count": 6,
   "metadata": {},
   "outputs": [],
   "source": [
    "import requests\n",
    "\n",
    "# api gratuita: https://home.openweathermap.org/\n",
    "# documentacion: https://openweathermap.org/api\n",
    "\n",
    "response = requests.get(\"http://api.openweathermap.org/data/2.5/weather?q=London,uk&APPID={}\".format(API_KEY_WEATHER))\n",
    "# weather_api_data=json.loads(weather_json.text)"
   ]
  },
  {
   "cell_type": "code",
   "execution_count": 7,
   "metadata": {},
   "outputs": [
    {
     "data": {
      "text/plain": [
       "<Response [200]>"
      ]
     },
     "execution_count": 7,
     "metadata": {},
     "output_type": "execute_result"
    }
   ],
   "source": [
    "response"
   ]
  },
  {
   "cell_type": "code",
   "execution_count": 8,
   "metadata": {},
   "outputs": [],
   "source": [
    "data=response.json()"
   ]
  },
  {
   "cell_type": "code",
   "execution_count": 11,
   "metadata": {},
   "outputs": [
    {
     "data": {
      "text/plain": [
       "{'coord': {'lon': -0.13, 'lat': 51.51},\n",
       " 'weather': [{'id': 804,\n",
       "   'main': 'Clouds',\n",
       "   'description': 'overcast clouds',\n",
       "   'icon': '04n'}],\n",
       " 'base': 'stations',\n",
       " 'main': {'temp': 283.84,\n",
       "  'feels_like': 279.61,\n",
       "  'temp_min': 283.71,\n",
       "  'temp_max': 284.26,\n",
       "  'pressure': 1010,\n",
       "  'humidity': 85},\n",
       " 'visibility': 10000,\n",
       " 'wind': {'speed': 5.47, 'deg': 208},\n",
       " 'clouds': {'all': 93},\n",
       " 'dt': 1604195058,\n",
       " 'sys': {'type': 3,\n",
       "  'id': 2019646,\n",
       "  'country': 'GB',\n",
       "  'sunrise': 1604213674,\n",
       "  'sunset': 1604248411},\n",
       " 'timezone': 0,\n",
       " 'id': 2643743,\n",
       " 'name': 'London',\n",
       " 'cod': 200}"
      ]
     },
     "execution_count": 11,
     "metadata": {},
     "output_type": "execute_result"
    }
   ],
   "source": [
    "data"
   ]
  },
  {
   "cell_type": "code",
   "execution_count": 25,
   "metadata": {},
   "outputs": [],
   "source": [
    "import json"
   ]
  },
  {
   "cell_type": "code",
   "execution_count": 26,
   "metadata": {},
   "outputs": [
    {
     "data": {
      "text/plain": [
       "dict"
      ]
     },
     "execution_count": 26,
     "metadata": {},
     "output_type": "execute_result"
    }
   ],
   "source": [
    "type(data)"
   ]
  },
  {
   "cell_type": "code",
   "execution_count": null,
   "metadata": {},
   "outputs": [],
   "source": []
  },
  {
   "cell_type": "markdown",
   "metadata": {},
   "source": [
    "#### Parámetros <code>request.get(url_string)</code>"
   ]
  },
  {
   "cell_type": "markdown",
   "metadata": {},
   "source": [
    "Este método presenta algunos parámetros admisibles como:\n",
    "\n",
    "- Keywords arguments:\n",
    "    - **params**: permite pasar un diccionario de la llave y el valor del API\n",
    "    - **headers**: similar al anterior pero este método debe ser usado para autenticarse con el API.\n",
    "- La respuesta obtenida será un objeto <code>response</code> el cual contendrá data y metadata.\n",
    "    - <code>response.json()</code> nos brindará solo la data"
   ]
  },
  {
   "cell_type": "code",
   "execution_count": null,
   "metadata": {},
   "outputs": [],
   "source": []
  },
  {
   "cell_type": "markdown",
   "metadata": {},
   "source": [
    "### Ejemplo"
   ]
  },
  {
   "cell_type": "markdown",
   "metadata": {},
   "source": [
    "Yelp es una empresa pública estadounidense con sede en San Francisco, California. La compañía desarrolla, aloja y comercializa el sitio web de Yelp.com y la aplicación móvil de Yelp, que publican reseñas de empresas de fuentes públicas. También opera un servicio de reservas en línea llamado Reservas de Yelp"
   ]
  },
  {
   "cell_type": "code",
   "execution_count": null,
   "metadata": {},
   "outputs": [],
   "source": [
    "# obtener API access: https://rapidapi.com/blog/yelp-fusion-api-profile-pull-local-business-data/?utm_source=google&utm_medium=cpc&utm_campaign=DSA&gclid=Cj0KCQjwlvT8BRDeARIsAACRFiWVp-3OcJVj9IGyxHIeZwa6Abn5VqM55qhjnMyONKZ5-btXIu8a9VQaAtaZEALw_wcB"
   ]
  },
  {
   "cell_type": "code",
   "execution_count": 16,
   "metadata": {},
   "outputs": [],
   "source": [
    "API_KEY_YELP = read_file('yelp_api.txt')[1]"
   ]
  },
  {
   "cell_type": "code",
   "execution_count": 18,
   "metadata": {},
   "outputs": [],
   "source": [
    "# documentacion: https://www.yelp.com/developers/documentation/v3/business_search\n",
    "\n",
    "import requests \n",
    "api_url = \"https://api.yelp.com/v3/businesses/search\"\n",
    "\n",
    "# Colocando parámetros según documentación del sitio\n",
    "params = {\"term\": \"bookstore\", #termino a buscar\n",
    "            \"location\": \"San Francisco\" # locacion\n",
    "         }\n",
    "headers = {\"Authorization\": \"Bearer {}\".format(API_KEY_YELP)}"
   ]
  },
  {
   "cell_type": "code",
   "execution_count": 19,
   "metadata": {},
   "outputs": [],
   "source": [
    "response = requests.get(api_url, \n",
    "                headers=headers, \n",
    "                params=params)\n",
    "\n",
    "# Extraigo JSON data de response\n",
    "data = response.json()"
   ]
  },
  {
   "cell_type": "code",
   "execution_count": 22,
   "metadata": {},
   "outputs": [
    {
     "data": {
      "text/plain": [
       "dict_keys(['businesses', 'total', 'region'])"
      ]
     },
     "execution_count": 22,
     "metadata": {},
     "output_type": "execute_result"
    }
   ],
   "source": [
    "data.keys()"
   ]
  },
  {
   "cell_type": "code",
   "execution_count": 23,
   "metadata": {},
   "outputs": [
    {
     "data": {
      "text/html": [
       "<div>\n",
       "<style scoped>\n",
       "    .dataframe tbody tr th:only-of-type {\n",
       "        vertical-align: middle;\n",
       "    }\n",
       "\n",
       "    .dataframe tbody tr th {\n",
       "        vertical-align: top;\n",
       "    }\n",
       "\n",
       "    .dataframe thead th {\n",
       "        text-align: right;\n",
       "    }\n",
       "</style>\n",
       "<table border=\"1\" class=\"dataframe\">\n",
       "  <thead>\n",
       "    <tr style=\"text-align: right;\">\n",
       "      <th></th>\n",
       "      <th>id</th>\n",
       "      <th>alias</th>\n",
       "      <th>name</th>\n",
       "      <th>image_url</th>\n",
       "      <th>is_closed</th>\n",
       "      <th>url</th>\n",
       "      <th>review_count</th>\n",
       "      <th>categories</th>\n",
       "      <th>rating</th>\n",
       "      <th>coordinates</th>\n",
       "      <th>transactions</th>\n",
       "      <th>price</th>\n",
       "      <th>location</th>\n",
       "      <th>phone</th>\n",
       "      <th>display_phone</th>\n",
       "      <th>distance</th>\n",
       "    </tr>\n",
       "  </thead>\n",
       "  <tbody>\n",
       "    <tr>\n",
       "      <th>0</th>\n",
       "      <td>_rbF2ooLcMRA7Kh8neIr4g</td>\n",
       "      <td>city-lights-booksellers-and-publishers-san-fra...</td>\n",
       "      <td>City Lights Booksellers &amp; Publishers</td>\n",
       "      <td>https://s3-media4.fl.yelpcdn.com/bphoto/PQV_Sg...</td>\n",
       "      <td>False</td>\n",
       "      <td>https://www.yelp.com/biz/city-lights-bookselle...</td>\n",
       "      <td>696</td>\n",
       "      <td>[{'alias': 'bookstores', 'title': 'Bookstores'}]</td>\n",
       "      <td>4.5</td>\n",
       "      <td>{'latitude': 37.7975997924805, 'longitude': -1...</td>\n",
       "      <td>[]</td>\n",
       "      <td>$$</td>\n",
       "      <td>{'address1': '261 Columbus Ave', 'address2': '...</td>\n",
       "      <td>+14153628193</td>\n",
       "      <td>(415) 362-8193</td>\n",
       "      <td>4851.824108</td>\n",
       "    </tr>\n",
       "    <tr>\n",
       "      <th>1</th>\n",
       "      <td>ngUUOEyCHdLkGnO1I5M4Vg</td>\n",
       "      <td>green-apple-books-san-francisco</td>\n",
       "      <td>Green Apple Books</td>\n",
       "      <td>https://s3-media1.fl.yelpcdn.com/bphoto/49i9ez...</td>\n",
       "      <td>False</td>\n",
       "      <td>https://www.yelp.com/biz/green-apple-books-san...</td>\n",
       "      <td>1334</td>\n",
       "      <td>[{'alias': 'musicvideo', 'title': 'Music &amp; DVD...</td>\n",
       "      <td>4.5</td>\n",
       "      <td>{'latitude': 37.783391, 'longitude': -122.464596}</td>\n",
       "      <td>[]</td>\n",
       "      <td>$$</td>\n",
       "      <td>{'address1': '506 Clement St', 'address2': 'at...</td>\n",
       "      <td>+14153872272</td>\n",
       "      <td>(415) 387-2272</td>\n",
       "      <td>3517.958893</td>\n",
       "    </tr>\n",
       "  </tbody>\n",
       "</table>\n",
       "</div>"
      ],
      "text/plain": [
       "                       id                                              alias  \\\n",
       "0  _rbF2ooLcMRA7Kh8neIr4g  city-lights-booksellers-and-publishers-san-fra...   \n",
       "1  ngUUOEyCHdLkGnO1I5M4Vg                    green-apple-books-san-francisco   \n",
       "\n",
       "                                   name  \\\n",
       "0  City Lights Booksellers & Publishers   \n",
       "1                     Green Apple Books   \n",
       "\n",
       "                                           image_url  is_closed  \\\n",
       "0  https://s3-media4.fl.yelpcdn.com/bphoto/PQV_Sg...      False   \n",
       "1  https://s3-media1.fl.yelpcdn.com/bphoto/49i9ez...      False   \n",
       "\n",
       "                                                 url  review_count  \\\n",
       "0  https://www.yelp.com/biz/city-lights-bookselle...           696   \n",
       "1  https://www.yelp.com/biz/green-apple-books-san...          1334   \n",
       "\n",
       "                                          categories  rating  \\\n",
       "0   [{'alias': 'bookstores', 'title': 'Bookstores'}]     4.5   \n",
       "1  [{'alias': 'musicvideo', 'title': 'Music & DVD...     4.5   \n",
       "\n",
       "                                         coordinates transactions price  \\\n",
       "0  {'latitude': 37.7975997924805, 'longitude': -1...           []    $$   \n",
       "1  {'latitude': 37.783391, 'longitude': -122.464596}           []    $$   \n",
       "\n",
       "                                            location         phone  \\\n",
       "0  {'address1': '261 Columbus Ave', 'address2': '...  +14153628193   \n",
       "1  {'address1': '506 Clement St', 'address2': 'at...  +14153872272   \n",
       "\n",
       "    display_phone     distance  \n",
       "0  (415) 362-8193  4851.824108  \n",
       "1  (415) 387-2272  3517.958893  "
      ]
     },
     "execution_count": 23,
     "metadata": {},
     "output_type": "execute_result"
    }
   ],
   "source": [
    "# Cargando data a dataframe\n",
    "df_yelp = pd.DataFrame(data[\"businesses\"])\n",
    "df_yelp.head(2)\n"
   ]
  },
  {
   "cell_type": "code",
   "execution_count": 24,
   "metadata": {},
   "outputs": [
    {
     "name": "stdout",
     "output_type": "stream",
     "text": [
      "id                object\n",
      "alias             object\n",
      "name              object\n",
      "image_url         object\n",
      "is_closed           bool\n",
      "url               object\n",
      "review_count       int64\n",
      "categories        object\n",
      "rating           float64\n",
      "coordinates       object\n",
      "transactions      object\n",
      "price             object\n",
      "location          object\n",
      "phone             object\n",
      "display_phone     object\n",
      "distance         float64\n",
      "dtype: object\n"
     ]
    }
   ],
   "source": [
    "# Visualizando tipo de datos de la respuesta\n",
    "print(df_yelp.dtypes)"
   ]
  },
  {
   "cell_type": "markdown",
   "metadata": {},
   "source": [
    "## Trabajando con Nested JSON"
   ]
  },
  {
   "cell_type": "markdown",
   "metadata": {},
   "source": [
    "- JSON contiene atributos clave - valor\n",
    "- JSON es nested es cuando el valor es un objeto"
   ]
  },
  {
   "cell_type": "markdown",
   "metadata": {},
   "source": [
    "<img src='./img/json_nested.png' width=\"500\" height=\"700\">"
   ]
  },
  {
   "cell_type": "code",
   "execution_count": 27,
   "metadata": {},
   "outputs": [
    {
     "name": "stdout",
     "output_type": "stream",
     "text": [
      "                                          categories  \\\n",
      "0   [{'alias': 'bookstores', 'title': 'Bookstores'}]   \n",
      "1  [{'alias': 'musicvideo', 'title': 'Music & DVD...   \n",
      "2  [{'alias': 'bookstores', 'title': 'Bookstores'...   \n",
      "\n",
      "                                         coordinates  \\\n",
      "0  {'latitude': 37.7975997924805, 'longitude': -1...   \n",
      "1  {'latitude': 37.783391, 'longitude': -122.464596}   \n",
      "2    {'latitude': 37.76997, 'longitude': -122.44942}   \n",
      "\n",
      "                                            location  \n",
      "0  {'address1': '261 Columbus Ave', 'address2': '...  \n",
      "1  {'address1': '506 Clement St', 'address2': 'at...  \n",
      "2  {'address1': '1644 Haight St', 'address2': '',...  \n"
     ]
    }
   ],
   "source": [
    "print(df_yelp[[\"categories\",\"coordinates\",\"location\"]].head(3))"
   ]
  },
  {
   "cell_type": "markdown",
   "metadata": {},
   "source": [
    "#### pandas.io.json\n",
    "\n",
    "- Contiene un sub modulo el cual nos permite leer y escribir json nested"
   ]
  },
  {
   "cell_type": "code",
   "execution_count": 31,
   "metadata": {},
   "outputs": [],
   "source": [
    "import pandas as pd\n",
    "import requests\n",
    "#from pandas.io.json import json_normalize # en desuso según documentación actual\n",
    "# Set up headers, parameters, and API endpoint\n",
    "api_url = \"https://api.yelp.com/v3/businesses/search\"\n",
    "headers = {\"Authorization\": \"Bearer {}\".format(API_KEY_YELP)}\n",
    "params = {\"term\": \"bookstore\",\n",
    "          \"location\": \"San Francisco\"}\n",
    "# Make the API call and extract the JSON data\n",
    "response = requests.get(api_url,\n",
    "                        headers=headers,\n",
    "                        params=params)\n",
    "data = response.json()"
   ]
  },
  {
   "cell_type": "code",
   "execution_count": null,
   "metadata": {},
   "outputs": [],
   "source": []
  },
  {
   "cell_type": "code",
   "execution_count": 32,
   "metadata": {},
   "outputs": [
    {
     "name": "stdout",
     "output_type": "stream",
     "text": [
      "['id', 'alias', 'name', 'image_url', 'is_closed', 'url', 'review_count', 'categories', 'rating', 'transactions', 'price', 'phone', 'display_phone', 'distance', 'coordinates_latitude', 'coordinates_longitude', 'location_address1', 'location_address2', 'location_address3', 'location_city', 'location_zip_code', 'location_country', 'location_state', 'location_display_address']\n"
     ]
    }
   ],
   "source": [
    "# Flatten data and load to data frame, with _ separators\n",
    "bookstores = pd.json_normalize(data[\"businesses\"], sep=\"_\")\n",
    "print(list(bookstores))"
   ]
  },
  {
   "cell_type": "code",
   "execution_count": 33,
   "metadata": {},
   "outputs": [
    {
     "data": {
      "text/html": [
       "<div>\n",
       "<style scoped>\n",
       "    .dataframe tbody tr th:only-of-type {\n",
       "        vertical-align: middle;\n",
       "    }\n",
       "\n",
       "    .dataframe tbody tr th {\n",
       "        vertical-align: top;\n",
       "    }\n",
       "\n",
       "    .dataframe thead th {\n",
       "        text-align: right;\n",
       "    }\n",
       "</style>\n",
       "<table border=\"1\" class=\"dataframe\">\n",
       "  <thead>\n",
       "    <tr style=\"text-align: right;\">\n",
       "      <th></th>\n",
       "      <th>id</th>\n",
       "      <th>alias</th>\n",
       "      <th>name</th>\n",
       "      <th>image_url</th>\n",
       "      <th>is_closed</th>\n",
       "      <th>url</th>\n",
       "      <th>review_count</th>\n",
       "      <th>categories</th>\n",
       "      <th>rating</th>\n",
       "      <th>transactions</th>\n",
       "      <th>...</th>\n",
       "      <th>coordinates_latitude</th>\n",
       "      <th>coordinates_longitude</th>\n",
       "      <th>location_address1</th>\n",
       "      <th>location_address2</th>\n",
       "      <th>location_address3</th>\n",
       "      <th>location_city</th>\n",
       "      <th>location_zip_code</th>\n",
       "      <th>location_country</th>\n",
       "      <th>location_state</th>\n",
       "      <th>location_display_address</th>\n",
       "    </tr>\n",
       "  </thead>\n",
       "  <tbody>\n",
       "    <tr>\n",
       "      <th>0</th>\n",
       "      <td>_rbF2ooLcMRA7Kh8neIr4g</td>\n",
       "      <td>city-lights-booksellers-and-publishers-san-fra...</td>\n",
       "      <td>City Lights Booksellers &amp; Publishers</td>\n",
       "      <td>https://s3-media4.fl.yelpcdn.com/bphoto/PQV_Sg...</td>\n",
       "      <td>False</td>\n",
       "      <td>https://www.yelp.com/biz/city-lights-bookselle...</td>\n",
       "      <td>696</td>\n",
       "      <td>[{'alias': 'bookstores', 'title': 'Bookstores'}]</td>\n",
       "      <td>4.5</td>\n",
       "      <td>[]</td>\n",
       "      <td>...</td>\n",
       "      <td>37.7976</td>\n",
       "      <td>-122.406578</td>\n",
       "      <td>261 Columbus Ave</td>\n",
       "      <td></td>\n",
       "      <td></td>\n",
       "      <td>San Francisco</td>\n",
       "      <td>94133</td>\n",
       "      <td>US</td>\n",
       "      <td>CA</td>\n",
       "      <td>[261 Columbus Ave, San Francisco, CA 94133]</td>\n",
       "    </tr>\n",
       "  </tbody>\n",
       "</table>\n",
       "<p>1 rows × 24 columns</p>\n",
       "</div>"
      ],
      "text/plain": [
       "                       id                                              alias  \\\n",
       "0  _rbF2ooLcMRA7Kh8neIr4g  city-lights-booksellers-and-publishers-san-fra...   \n",
       "\n",
       "                                   name  \\\n",
       "0  City Lights Booksellers & Publishers   \n",
       "\n",
       "                                           image_url  is_closed  \\\n",
       "0  https://s3-media4.fl.yelpcdn.com/bphoto/PQV_Sg...      False   \n",
       "\n",
       "                                                 url  review_count  \\\n",
       "0  https://www.yelp.com/biz/city-lights-bookselle...           696   \n",
       "\n",
       "                                         categories  rating transactions  ...  \\\n",
       "0  [{'alias': 'bookstores', 'title': 'Bookstores'}]     4.5           []  ...   \n",
       "\n",
       "  coordinates_latitude coordinates_longitude location_address1  \\\n",
       "0              37.7976           -122.406578  261 Columbus Ave   \n",
       "\n",
       "   location_address2  location_address3  location_city location_zip_code  \\\n",
       "0                                        San Francisco             94133   \n",
       "\n",
       "  location_country location_state                     location_display_address  \n",
       "0               US             CA  [261 Columbus Ave, San Francisco, CA 94133]  \n",
       "\n",
       "[1 rows x 24 columns]"
      ]
     },
     "execution_count": 33,
     "metadata": {},
     "output_type": "execute_result"
    }
   ],
   "source": [
    "bookstores.head(1)"
   ]
  },
  {
   "cell_type": "code",
   "execution_count": 34,
   "metadata": {},
   "outputs": [
    {
     "name": "stdout",
     "output_type": "stream",
     "text": [
      "0     [{'alias': 'bookstores', 'title': 'Bookstores'}]\n",
      "1    [{'alias': 'musicvideo', 'title': 'Music & DVD...\n",
      "2    [{'alias': 'bookstores', 'title': 'Bookstores'...\n",
      "3    [{'alias': 'bookstores', 'title': 'Bookstores'...\n",
      "4     [{'alias': 'bookstores', 'title': 'Bookstores'}]\n",
      "Name: categories, dtype: object\n"
     ]
    }
   ],
   "source": [
    "print(bookstores.categories.head())"
   ]
  },
  {
   "cell_type": "code",
   "execution_count": 35,
   "metadata": {},
   "outputs": [],
   "source": [
    "df = pd.json_normalize(data[\"businesses\"],\n",
    "                    sep=\"_\", \n",
    "                    record_path=[\"categories\"],\n",
    "                    meta=[\"name\",\n",
    "                          \"alias\",\n",
    "                          \"rating\",\n",
    "                          [\"coordinates\",\"latitude\"],\n",
    "                          [\"coordinates\",\"longitude\"]],\n",
    "                    meta_prefix=\"biz_\")"
   ]
  },
  {
   "cell_type": "code",
   "execution_count": 36,
   "metadata": {},
   "outputs": [
    {
     "data": {
      "text/html": [
       "<div>\n",
       "<style scoped>\n",
       "    .dataframe tbody tr th:only-of-type {\n",
       "        vertical-align: middle;\n",
       "    }\n",
       "\n",
       "    .dataframe tbody tr th {\n",
       "        vertical-align: top;\n",
       "    }\n",
       "\n",
       "    .dataframe thead th {\n",
       "        text-align: right;\n",
       "    }\n",
       "</style>\n",
       "<table border=\"1\" class=\"dataframe\">\n",
       "  <thead>\n",
       "    <tr style=\"text-align: right;\">\n",
       "      <th></th>\n",
       "      <th>alias</th>\n",
       "      <th>title</th>\n",
       "      <th>biz_name</th>\n",
       "      <th>biz_alias</th>\n",
       "      <th>biz_rating</th>\n",
       "      <th>biz_coordinates_latitude</th>\n",
       "      <th>biz_coordinates_longitude</th>\n",
       "    </tr>\n",
       "  </thead>\n",
       "  <tbody>\n",
       "    <tr>\n",
       "      <th>0</th>\n",
       "      <td>bookstores</td>\n",
       "      <td>Bookstores</td>\n",
       "      <td>City Lights Booksellers &amp; Publishers</td>\n",
       "      <td>city-lights-booksellers-and-publishers-san-fra...</td>\n",
       "      <td>4.5</td>\n",
       "      <td>37.7976</td>\n",
       "      <td>-122.407</td>\n",
       "    </tr>\n",
       "  </tbody>\n",
       "</table>\n",
       "</div>"
      ],
      "text/plain": [
       "        alias       title                              biz_name  \\\n",
       "0  bookstores  Bookstores  City Lights Booksellers & Publishers   \n",
       "\n",
       "                                           biz_alias biz_rating  \\\n",
       "0  city-lights-booksellers-and-publishers-san-fra...        4.5   \n",
       "\n",
       "  biz_coordinates_latitude biz_coordinates_longitude  \n",
       "0                  37.7976                  -122.407  "
      ]
     },
     "execution_count": 36,
     "metadata": {},
     "output_type": "execute_result"
    }
   ],
   "source": [
    "df.head(1)"
   ]
  },
  {
   "cell_type": "code",
   "execution_count": null,
   "metadata": {},
   "outputs": [],
   "source": []
  },
  {
   "cell_type": "code",
   "execution_count": null,
   "metadata": {},
   "outputs": [],
   "source": []
  },
  {
   "cell_type": "code",
   "execution_count": null,
   "metadata": {},
   "outputs": [],
   "source": []
  },
  {
   "cell_type": "code",
   "execution_count": null,
   "metadata": {},
   "outputs": [],
   "source": []
  },
  {
   "cell_type": "markdown",
   "metadata": {},
   "source": [
    "## Recursos Adicionales"
   ]
  },
  {
   "cell_type": "markdown",
   "metadata": {},
   "source": [
    "- [working with json pandas](https://kanoki.org/2019/12/12/how-to-work-with-json-in-pandas/)\n",
    "- [open street maps api](https://towardsdatascience.com/loading-data-from-openstreetmap-with-python-and-the-overpass-api-513882a27fd0)\n",
    "- [google maps api python](https://github.com/googlemaps/google-maps-services-python)\n",
    "- [pandas documentacion lectura json](https://pandas.pydata.org/pandas-docs/stable/reference/api/pandas.json_normalize.html)\n",
    "- [us data gov](https://docs.ckan.org/en/latest/api/index.html)"
   ]
  }
 ],
 "metadata": {
  "kernelspec": {
   "display_name": "Python 3",
   "language": "python",
   "name": "python3"
  },
  "language_info": {
   "codemirror_mode": {
    "name": "ipython",
    "version": 3
   },
   "file_extension": ".py",
   "mimetype": "text/x-python",
   "name": "python",
   "nbconvert_exporter": "python",
   "pygments_lexer": "ipython3",
   "version": "3.8.3"
  }
 },
 "nbformat": 4,
 "nbformat_minor": 4
}
