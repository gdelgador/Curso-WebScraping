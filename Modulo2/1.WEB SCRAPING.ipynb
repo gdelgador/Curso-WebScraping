{
 "cells": [
  {
   "cell_type": "markdown",
   "metadata": {},
   "source": [
    "# WEB SCRAPING WITH PYTHON"
   ]
  },
  {
   "cell_type": "markdown",
   "metadata": {},
   "source": [
    "## 1. ACERCA DEL WEB SCRAPING\n",
    "\n",
    "En términos simples, el web scraping se basa en <b>extracción de información contenida dentro de la estructura HTML de una página web</b>"
   ]
  },
  {
   "cell_type": "markdown",
   "metadata": {},
   "source": [
    "<img src='./img/web_scrapy_intro.png'>"
   ]
  },
  {
   "cell_type": "markdown",
   "metadata": {},
   "source": [
    "Si quisiéramos conocer a un modo más detallado lo que se realiza para la extracción de datos web, esta se muestra a través de la figura donde se muestra el árbol de estructura HTML que es el que se debe recorrer para la obtención de la data requerida."
   ]
  },
  {
   "cell_type": "markdown",
   "metadata": {},
   "source": [
    "<img src=\"./img/web_scrapy.png\">"
   ]
  },
  {
   "cell_type": "markdown",
   "metadata": {},
   "source": [
    "<b>Los usos que se le pueda dar a los datos extraidos son diversos y dependera de lo que querramos realizar con ellos. </b>\n",
    "Un caso práctico pudiera ser la extracción de datos de la siguiente página: http://books.toscrape.com/"
   ]
  },
  {
   "cell_type": "markdown",
   "metadata": {},
   "source": [
    "### ATENCIÓN"
   ]
  },
  {
   "cell_type": "markdown",
   "metadata": {},
   "source": [
    "<b>El web scraping pudiera ir en contra de los términos de uso de algunos sitios webs</b>. El cumplimiento de estos términos no está totalmente claro y dependerá mucho del propósito que se le quiera dar a los datos extraidos.\n",
    "Es por ello que <b>debemos ser cuidadosos al momento de realizarlo.</b>\n",
    "\n",
    "- Una de las principales medidas que se puede revisar para evitar tener problemas en el futuro, será el de revisar los <b> terminos de privacidad y uso de la página web<b> . \n",
    "- Además de ello, diversas páginas web poseen el sitio <a href=\"https://www.sciencedirect.com/\" ><b> ROBOTS.TXT</b> </a> contenida en la página donde se especifica los sitios que no deben ser scrapeados."
   ]
  },
  {
   "cell_type": "markdown",
   "metadata": {},
   "source": [
    "## 2. POR QUÉ WEB SCRAPING?"
   ]
  },
  {
   "cell_type": "markdown",
   "metadata": {},
   "source": [
    "Principales motivos por los que realizar web scraping\n",
    "- **Empresas**:\n",
    "    - Comparación de precios respecto a la competencia\n",
    "    - Generación de clientes potenciales\n",
    "    - Buscar satisfacción del cliente\n",
    "    - etc.\n",
    "  \n",
    "- **Personales**:\n",
    "    - Scrapeo de contenido en redes sociales para obtener información de esta\n",
    "    - Scrapeo de páginas de contenido deportivo para clasificarlo\n",
    "    - etc."
   ]
  },
  {
   "cell_type": "markdown",
   "metadata": {},
   "source": [
    "## 3. QUÉ HERRAMIENTAS UTILIZAREMOS PARA EL WEB SCRAPING?"
   ]
  },
  {
   "cell_type": "markdown",
   "metadata": {},
   "source": [
    "Existen múltiples herramientas para realizar web scraping usando python, entre las principales herramientas tenemos:\n",
    "- <a href=\"https://requests.kennethreitz.org/en/master/\" >Requests</a>\n",
    "- <a href=\"https://www.crummy.com/software/BeautifulSoup/bs4/doc/\">Beautiful Soup</a>\n",
    "- **Selenium**\n",
    "- **Scrapy**\n",
    "- entre otros\n"
   ]
  },
  {
   "cell_type": "markdown",
   "metadata": {},
   "source": [
    "### <a href=\"https://selenium-python.readthedocs.io/\" >3.1 ACERCA DE SELENIUM ...</a> "
   ]
  },
  {
   "cell_type": "markdown",
   "metadata": {},
   "source": [
    "Selenium es una <b>herramientas de testeo para el desarrollo de páginas web</b>. La cual es muy útil para estos fines ya que permite:\n",
    "- Automatización web.\n",
    "- Selección de campos mediante nombres ID, XPATH, etc.\n",
    "- Entre otros"
   ]
  },
  {
   "cell_type": "markdown",
   "metadata": {},
   "source": [
    "Selenium trabaja con diversos navegadores, tambien conocidos como navegadores sin cabecera como <a href=\"https://chromedriver.chromium.org/\">google chrome</a> y <a href=\"https://github.com/mozilla/geckodriver\">firefox.</a>"
   ]
  },
  {
   "cell_type": "markdown",
   "metadata": {},
   "source": [
    "El uso de selenium es muy simple y puede servir como un buen punto de partida para el desarrollo de extractores web."
   ]
  },
  {
   "cell_type": "markdown",
   "metadata": {},
   "source": [
    "##### EJEMPLO BÁSICO USANDO SELENIUM"
   ]
  },
  {
   "cell_type": "code",
   "execution_count": 4,
   "metadata": {},
   "outputs": [],
   "source": [
    "from selenium import webdriver"
   ]
  },
  {
   "cell_type": "code",
   "execution_count": 5,
   "metadata": {},
   "outputs": [],
   "source": [
    "driver = webdriver.Chrome(\"./drivers/chromedriver.exe\")"
   ]
  },
  {
   "cell_type": "code",
   "execution_count": 6,
   "metadata": {},
   "outputs": [],
   "source": [
    "url=\"https://chromedriver.chromium.org/\"\n",
    "driver.get(url)"
   ]
  },
  {
   "cell_type": "code",
   "execution_count": 4,
   "metadata": {},
   "outputs": [],
   "source": [
    "driver.quit()"
   ]
  },
  {
   "cell_type": "markdown",
   "metadata": {},
   "source": [
    "### <a href=\"https://docs.scrapy.org/en/latest/\" >3.2 ACERCA DE SCRAPY ...</a> "
   ]
  },
  {
   "cell_type": "markdown",
   "metadata": {},
   "source": [
    "Scrapy es un <b>marco rápido de rastreo y raspado web de alto nivel</b>, utilizado para rastrear sitios web y extraer datos estructurados de sus páginas. Su uso es amplio los cuales van desde la minería de datos hasta el monitoreo y desarrollo de pruebas web automatizadas."
   ]
  },
  {
   "cell_type": "markdown",
   "metadata": {},
   "source": [
    "  <img src=https://pluralsight.imgix.net/course-images/scrapy-extracting-structured-data-v1.png width=\"900\" height=\"700\">"
   ]
  },
  {
   "cell_type": "markdown",
   "metadata": {},
   "source": [
    "La curva de aprendizaje de scrapy en un inicio pudiera ser mucho mayor a la de selenium dado que scrapy posee multiples funcionalidades pero este es fuerzo es recompensado con la gran rápides en la recuperación de los datos web. "
   ]
  },
  {
   "cell_type": "markdown",
   "metadata": {},
   "source": [
    "#### SCRAPY VS OTRAS LIBRERIAS"
   ]
  },
  {
   "cell_type": "markdown",
   "metadata": {},
   "source": [
    "<img src=\"http://1.bp.blogspot.com/-TYAOULT1ui8/VqwuQMt5H7I/AAAAAAAABpE/QufEvDbBTmY/s1600/DraggedImage-1.png\" width=\"700\" height=\"500\">"
   ]
  },
  {
   "cell_type": "markdown",
   "metadata": {},
   "source": [
    "## 4. EL LENGUAJE HTLM"
   ]
  },
  {
   "cell_type": "markdown",
   "metadata": {},
   "source": [
    "Explicación de los fundamentos del Lenguaje de marcado de hipertexto. HTML significa lenguaje de marcado de hipertexto, y le permite al usuario crear y estructurar secciones, párrafos, encabezados, enlaces y elementos de cita en bloque (blockquotes) para páginas web y aplicaciones"
   ]
  },
  {
   "cell_type": "markdown",
   "metadata": {},
   "source": [
    "<img src='./img/html_model.PNG' alt=\"Example\" width=\"500\" height=\"700\">"
   ]
  },
  {
   "cell_type": "markdown",
   "metadata": {},
   "source": [
    "#### Ejemplo"
   ]
  },
  {
   "cell_type": "markdown",
   "metadata": {},
   "source": [
    "[pagina HTML](./src/html.html)"
   ]
  },
  {
   "cell_type": "code",
   "execution_count": null,
   "metadata": {},
   "outputs": [],
   "source": []
  },
  {
   "cell_type": "markdown",
   "metadata": {},
   "source": [
    "## 4.1. [ETIQUETAS](https://www.w3schools.com/TAGS/default.ASP) HTML"
   ]
  },
  {
   "cell_type": "markdown",
   "metadata": {},
   "source": [
    "Existen varias etiquetas HTML las cuales tiene un proposito en específico:\n",
    "\n",
    "Algunas de estas etiquetas son:\n",
    "- Títulos: <code>h1, h2, h3, h4, h5, h6</code>\n",
    "- Listas: <code>ol, ul</code>\n",
    "- Imagenes: <code>img</code>\n",
    "- Links: <code>a</code>\n",
    "- Tablas: <code>table</code>\n",
    "- Formularios: <code>form</code>\n",
    "- etc"
   ]
  },
  {
   "cell_type": "markdown",
   "metadata": {},
   "source": [
    "#### Ejemplo"
   ]
  },
  {
   "cell_type": "code",
   "execution_count": null,
   "metadata": {},
   "outputs": [],
   "source": []
  },
  {
   "cell_type": "markdown",
   "metadata": {},
   "source": [
    "## 5. CSS"
   ]
  },
  {
   "cell_type": "markdown",
   "metadata": {},
   "source": [
    "El lenguaje CSS es un lenguaje que determina el estilo de los documentos HTML. Abarca opciones relativas a fuentes, colores, márgenes, líneas, altura, anchura, imágenes de fondo, entre otros. En la actualidad es posible utilizar lenguaje HTML para desarrollar el formato de páginas web.\n"
   ]
  },
  {
   "cell_type": "markdown",
   "metadata": {},
   "source": [
    "<img src='./img/css.PNG' alt=\"css\" width=\"500\" height=\"700\">"
   ]
  },
  {
   "cell_type": "markdown",
   "metadata": {},
   "source": [
    "#### Ejemplo"
   ]
  },
  {
   "cell_type": "markdown",
   "metadata": {},
   "source": [
    "[pagina con CCS](./src/css.html)"
   ]
  },
  {
   "cell_type": "code",
   "execution_count": null,
   "metadata": {},
   "outputs": [],
   "source": []
  },
  {
   "cell_type": "markdown",
   "metadata": {},
   "source": [
    "## 5. NUESTRO PRIMER PROGRAMA USANDO SCRAPY"
   ]
  },
  {
   "cell_type": "markdown",
   "metadata": {},
   "source": [
    "Para el desarrollo del siguiente programa extractor web haremos uso de scrapy donde se darán algunos detalles adicionales sobre el entorno scrapy y su uso."
   ]
  },
  {
   "cell_type": "markdown",
   "metadata": {},
   "source": [
    "La página a utilizar como primer punto será la siguientes: http://quotes.toscrape.com/"
   ]
  },
  {
   "cell_type": "code",
   "execution_count": null,
   "metadata": {},
   "outputs": [],
   "source": []
  },
  {
   "cell_type": "code",
   "execution_count": null,
   "metadata": {},
   "outputs": [],
   "source": []
  },
  {
   "cell_type": "code",
   "execution_count": null,
   "metadata": {},
   "outputs": [],
   "source": []
  },
  {
   "cell_type": "code",
   "execution_count": null,
   "metadata": {},
   "outputs": [],
   "source": []
  },
  {
   "cell_type": "markdown",
   "metadata": {},
   "source": [
    "# REFERENCIAS"
   ]
  },
  {
   "cell_type": "code",
   "execution_count": null,
   "metadata": {},
   "outputs": [],
   "source": []
  },
  {
   "cell_type": "code",
   "execution_count": null,
   "metadata": {},
   "outputs": [],
   "source": [
    "conda install nb_conda_kernels"
   ]
  },
  {
   "cell_type": "markdown",
   "metadata": {},
   "source": [
    "# MANUALES"
   ]
  },
  {
   "cell_type": "markdown",
   "metadata": {},
   "source": [
    "- [Cambiar kernel Jupyter](https://medium.com/@nrk25693/how-to-add-your-conda-environment-to-your-jupyter-notebook-in-just-4-steps-abeab8b8d084)\n",
    "- [Entornos virtuales python anaconda](https://www.devacademy.es/entornos-virtuales-en-python-anaconda)\n",
    "- [Instalacion pip anaconda](https://stackoverflow.com/questions/41060382/using-pip-to-install-packages-to-anaconda-environment)"
   ]
  }
 ],
 "metadata": {
  "kernelspec": {
   "display_name": "python_scraping",
   "language": "python",
   "name": "python_scraping"
  },
  "language_info": {
   "codemirror_mode": {
    "name": "ipython",
    "version": 3
   },
   "file_extension": ".py",
   "mimetype": "text/x-python",
   "name": "python",
   "nbconvert_exporter": "python",
   "pygments_lexer": "ipython3",
   "version": "3.8.3"
  }
 },
 "nbformat": 4,
 "nbformat_minor": 4
}
