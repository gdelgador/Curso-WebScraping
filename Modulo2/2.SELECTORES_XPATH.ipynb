{
 "cells": [
  {
   "cell_type": "markdown",
   "metadata": {},
   "source": [
    "# SELECTORES: XPATH"
   ]
  },
  {
   "cell_type": "markdown",
   "metadata": {},
   "source": [
    "Cuando se requiere realizar la extracción de datos web, la tarea más común es la extracción de esta data a partir del árbol HTML de la página web. Para poder realizar ello se requieren de los <b>selectores, los cuales se encargarán de obtener las partes del documento HTML que querramos recuperar</b>"
   ]
  },
  {
   "cell_type": "markdown",
   "metadata": {},
   "source": [
    "## 1. XPATH SELECTOR\n",
    "   XPath es un lenguaje de <b>selección de nodos en documentos XML</b> (Lenguaje de Marcas Extensible), los cuales son usados también con documentos HTML\n"
   ]
  },
  {
   "cell_type": "markdown",
   "metadata": {},
   "source": [
    "#### Utilizando selectores XPATH"
   ]
  },
  {
   "cell_type": "code",
   "execution_count": 1,
   "metadata": {},
   "outputs": [],
   "source": [
    "import requests\n",
    "from scrapy.selector import Selector"
   ]
  },
  {
   "cell_type": "code",
   "execution_count": 21,
   "metadata": {},
   "outputs": [],
   "source": [
    "def leer(html_path):\n",
    "    \"\"\"\n",
    "    Read html document\n",
    "    \n",
    "    Parameters\n",
    "    ----------\n",
    "    html_path : str\n",
    "    \"\"\"\n",
    "    with open(html_path) as f:\n",
    "        data = f.read()\n",
    "    return data"
   ]
  },
  {
   "cell_type": "code",
   "execution_count": 22,
   "metadata": {},
   "outputs": [
    {
     "name": "stdout",
     "output_type": "stream",
     "text": [
      "<html>\n",
      " <head>\n",
      "  <base href='http://example.com/' />\n",
      "  <title>Example website</title>\n",
      " </head>\n",
      " <body>\n",
      "  <div id='images'>\n",
      "   <a href='image1.html'>Name: My image 1 <br /><img src='image1_thumb.jpg' /></a>\n",
      "   <a href='image2.html'>Name: My image 2 <br /><img src='image2_thumb.jpg' /></a>\n",
      "   <a href='image3.html'>Name: My image 3 <br /><img src='image3_thumb.jpg' /></a>\n",
      "   <a href='image4.html'>Name: My image 4 <br /><img src='image4_thumb.jpg' /></a>\n",
      "   <a href='image5.html'>Name: My image 5 <br /><img src='image5_thumb.jpg' /></a>\n",
      "  </div>\n",
      " </body>\n",
      "</html>\n"
     ]
    }
   ],
   "source": [
    "html_path = './src/selectores.html'\n",
    "# Cargamos documento html\n",
    "html_doc = leer(html_path)\n",
    "print(html_doc)"
   ]
  },
  {
   "cell_type": "code",
   "execution_count": 23,
   "metadata": {},
   "outputs": [],
   "source": [
    "#pasando el codigo html de la página\n",
    "response=Selector(text=html_doc)"
   ]
  },
  {
   "cell_type": "markdown",
   "metadata": {},
   "source": [
    "El objeto <code>response </code> nos ayudará a movilizarnos por medio del HTML de la página web"
   ]
  },
  {
   "cell_type": "markdown",
   "metadata": {},
   "source": [
    "### Métodos de selección XPATH"
   ]
  },
  {
   "cell_type": "markdown",
   "metadata": {},
   "source": [
    "- **Slashes y Corchetes**\n",
    "    - Un Slash <code>/</code> se encarga de navegar a través de una generación de código\n",
    "    - Doble Slash <code>//</code> implica la navegación de un elemento a todas las generaciones de elementos futuras\n",
    "    - Corchetes <code>[]</code> nos ayuda a posicionarnos en un elemento en específico del árbol HTML"
   ]
  },
  {
   "cell_type": "code",
   "execution_count": 36,
   "metadata": {},
   "outputs": [
    {
     "data": {
      "text/plain": [
       "[<Selector xpath='/html/head/title' data='<title>Example website</title>'>]"
      ]
     },
     "execution_count": 36,
     "metadata": {},
     "output_type": "execute_result"
    }
   ],
   "source": [
    "# Utilizando / para la navegación\n",
    "xpath_string = '/html/head/title'  # me permite navegar de forma ordenada en el html de la página\n",
    "response.xpath(xpath_string)"
   ]
  },
  {
   "cell_type": "code",
   "execution_count": 38,
   "metadata": {},
   "outputs": [
    {
     "data": {
      "text/plain": [
       "[<Selector xpath='//a' data='<a href=\"image1.html\">Name: My image ...'>,\n",
       " <Selector xpath='//a' data='<a href=\"image2.html\">Name: My image ...'>,\n",
       " <Selector xpath='//a' data='<a href=\"image3.html\">Name: My image ...'>,\n",
       " <Selector xpath='//a' data='<a href=\"image4.html\">Name: My image ...'>,\n",
       " <Selector xpath='//a' data='<a href=\"image5.html\">Name: My image ...'>]"
      ]
     },
     "execution_count": 38,
     "metadata": {},
     "output_type": "execute_result"
    }
   ],
   "source": [
    "# Utilizando // para la navegación\n",
    "\n",
    "xpath_string = '//a'  # permite seleccionar elementos coincidentes según el valor indicado\n",
    "response.xpath(xpath_string)\n"
   ]
  },
  {
   "cell_type": "code",
   "execution_count": 40,
   "metadata": {},
   "outputs": [
    {
     "data": {
      "text/plain": [
       "[<Selector xpath='//a[1]' data='<a href=\"image1.html\">Name: My image ...'>]"
      ]
     },
     "execution_count": 40,
     "metadata": {},
     "output_type": "execute_result"
    }
   ],
   "source": [
    "# Utilizando [] para la navegación\n",
    "\n",
    "xpath_string = '//a[1]'  # [] -> me ayuda a controlar cual de los elementos obtenidos se desea tener\n",
    "response.xpath(xpath_string)\n"
   ]
  },
  {
   "cell_type": "markdown",
   "metadata": {},
   "source": [
    "- **Comodín <code>*</code>**"
   ]
  },
  {
   "cell_type": "code",
   "execution_count": 45,
   "metadata": {},
   "outputs": [
    {
     "data": {
      "text/plain": [
       "[<Selector xpath='//div/*' data='<a href=\"image1.html\">Name: My image ...'>,\n",
       " <Selector xpath='//div/*' data='<a href=\"image2.html\">Name: My image ...'>,\n",
       " <Selector xpath='//div/*' data='<a href=\"image3.html\">Name: My image ...'>,\n",
       " <Selector xpath='//div/*' data='<a href=\"image4.html\">Name: My image ...'>,\n",
       " <Selector xpath='//div/*' data='<a href=\"image5.html\">Name: My image ...'>]"
      ]
     },
     "execution_count": 45,
     "metadata": {},
     "output_type": "execute_result"
    }
   ],
   "source": [
    "# Utilizando * para la navegación\n",
    "\n",
    "xpath_string = '//div/*'  # * -> me ayuda a seleccionar cualquier elemento en particular que se tenga\n",
    "response.xpath(xpath_string)"
   ]
  },
  {
   "cell_type": "markdown",
   "metadata": {},
   "source": [
    "- **Atributos @**:\n",
    "    - <code>@class</code> : selección de elemento por nombre de clase\n",
    "    - <code>@id</code> : seleccion de elemento por id\n",
    "    - <code>@href</code> : selección de elemento según su href"
   ]
  },
  {
   "cell_type": "code",
   "execution_count": null,
   "metadata": {},
   "outputs": [],
   "source": [
    "# Utilizando @class para la navegación\n",
    "\n",
    "xpath_string = '//div/*'  # * -> me ayuda a seleccionar cualquier elemento en particular que se tenga\n",
    "response.xpath(xpath_string)"
   ]
  },
  {
   "cell_type": "code",
   "execution_count": 47,
   "metadata": {},
   "outputs": [
    {
     "data": {
      "text/plain": [
       "[<Selector xpath='//div[@id=\"images\"]' data='<div id=\"images\">\\n   <a href=\"image1....'>]"
      ]
     },
     "execution_count": 47,
     "metadata": {},
     "output_type": "execute_result"
    }
   ],
   "source": [
    "# Utilizando @id para la navegación\n",
    "\n",
    "xpath_string = '//div[@id=\"images\"]'  # @id -> me permite seleccionar un elemento por su id\n",
    "response.xpath(xpath_string)"
   ]
  },
  {
   "cell_type": "code",
   "execution_count": 55,
   "metadata": {},
   "outputs": [
    {
     "data": {
      "text/plain": [
       "[<Selector xpath='//div/a[@href=\"image2.html\"]' data='<a href=\"image2.html\">Name: My image ...'>]"
      ]
     },
     "execution_count": 55,
     "metadata": {},
     "output_type": "execute_result"
    }
   ],
   "source": [
    "# Utilizando @id para la navegación\n",
    "\n",
    "xpath_string = '//div/a[@href=\"image2.html\"]'  # @id -> me permite seleccionar un elemento por su id\n",
    "response.xpath(xpath_string)"
   ]
  },
  {
   "cell_type": "code",
   "execution_count": 54,
   "metadata": {},
   "outputs": [
    {
     "data": {
      "text/plain": [
       "[<Selector xpath='//div/a/@href' data='image1.html'>,\n",
       " <Selector xpath='//div/a/@href' data='image2.html'>,\n",
       " <Selector xpath='//div/a/@href' data='image3.html'>,\n",
       " <Selector xpath='//div/a/@href' data='image4.html'>,\n",
       " <Selector xpath='//div/a/@href' data='image5.html'>]"
      ]
     },
     "execution_count": 54,
     "metadata": {},
     "output_type": "execute_result"
    }
   ],
   "source": [
    "xpath_string = '//div/a/@href'  # @id -> me permite seleccionar un elemento por su id\n",
    "response.xpath(xpath_string)"
   ]
  },
  {
   "cell_type": "code",
   "execution_count": null,
   "metadata": {},
   "outputs": [],
   "source": []
  },
  {
   "cell_type": "code",
   "execution_count": null,
   "metadata": {},
   "outputs": [],
   "source": []
  },
  {
   "cell_type": "code",
   "execution_count": 24,
   "metadata": {},
   "outputs": [
    {
     "data": {
      "text/plain": [
       "'Example website'"
      ]
     },
     "execution_count": 24,
     "metadata": {},
     "output_type": "execute_result"
    }
   ],
   "source": [
    "#obteniendo el título de la página web\n",
    "response.xpath('//head/title/text()').get()"
   ]
  },
  {
   "cell_type": "code",
   "execution_count": 25,
   "metadata": {},
   "outputs": [
    {
     "data": {
      "text/plain": [
       "['Name: My image 1 ',\n",
       " 'Name: My image 2 ',\n",
       " 'Name: My image 3 ',\n",
       " 'Name: My image 4 ',\n",
       " 'Name: My image 5 ']"
      ]
     },
     "execution_count": 25,
     "metadata": {},
     "output_type": "execute_result"
    }
   ],
   "source": [
    "#obteniendo de los elementos a\n",
    "response.xpath('//div/a/text()').getall()"
   ]
  },
  {
   "cell_type": "code",
   "execution_count": 53,
   "metadata": {},
   "outputs": [
    {
     "data": {
      "text/plain": [
       "['image1.html', 'image2.html', 'image3.html', 'image4.html', 'image5.html']"
      ]
     },
     "execution_count": 53,
     "metadata": {},
     "output_type": "execute_result"
    }
   ],
   "source": [
    "#obteniendo de los elementos href dentro de a\n",
    "response.xpath('//div/a/@href').getall()"
   ]
  },
  {
   "cell_type": "code",
   "execution_count": null,
   "metadata": {},
   "outputs": [],
   "source": []
  },
  {
   "cell_type": "code",
   "execution_count": null,
   "metadata": {},
   "outputs": [],
   "source": []
  },
  {
   "cell_type": "markdown",
   "metadata": {},
   "source": [
    "## Ejemplo 1"
   ]
  },
  {
   "cell_type": "code",
   "execution_count": null,
   "metadata": {},
   "outputs": [],
   "source": []
  },
  {
   "cell_type": "code",
   "execution_count": 17,
   "metadata": {},
   "outputs": [],
   "source": [
    "# url = 'https://www.datacamp.com/courses/all'\n",
    "# html = requests.get( url ).content"
   ]
  },
  {
   "cell_type": "code",
   "execution_count": null,
   "metadata": {},
   "outputs": [],
   "source": []
  },
  {
   "cell_type": "code",
   "execution_count": null,
   "metadata": {},
   "outputs": [],
   "source": []
  },
  {
   "cell_type": "code",
   "execution_count": null,
   "metadata": {},
   "outputs": [],
   "source": []
  }
 ],
 "metadata": {
  "kernelspec": {
   "display_name": "Python [conda env:python_scraping]",
   "language": "python",
   "name": "conda-env-python_scraping-py"
  },
  "language_info": {
   "codemirror_mode": {
    "name": "ipython",
    "version": 3
   },
   "file_extension": ".py",
   "mimetype": "text/x-python",
   "name": "python",
   "nbconvert_exporter": "python",
   "pygments_lexer": "ipython3",
   "version": "3.8.5"
  }
 },
 "nbformat": 4,
 "nbformat_minor": 4
}
