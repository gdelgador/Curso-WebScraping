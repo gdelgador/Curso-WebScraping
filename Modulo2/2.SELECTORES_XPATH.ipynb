{
 "cells": [
  {
   "cell_type": "markdown",
   "metadata": {},
   "source": [
    "# SELECTORES: XPATH"
   ]
  },
  {
   "cell_type": "markdown",
   "metadata": {},
   "source": [
    "Cuando se requiere realizar la extracción de datos web, la tarea más común es la extracción de esta data a partir del árbol HTML de la página web. Para poder realizar ello se requieren de los <b>selectores, los cuales se encargarán de obtener las partes del documento HTML que querramos recuperar</b>"
   ]
  },
  {
   "cell_type": "markdown",
   "metadata": {},
   "source": [
    "## 1. XPATH SELECTOR\n",
    "   XPath es un lenguaje de <b>selección de nodos en documentos XML</b> (Lenguaje de Marcas Extensible), los cuales son usados también con documentos HTML\n"
   ]
  },
  {
   "cell_type": "markdown",
   "metadata": {},
   "source": [
    "<img src='./img/arbol_html.jpg'>"
   ]
  },
  {
   "cell_type": "markdown",
   "metadata": {},
   "source": [
    "#### Utilizando selectores XPATH"
   ]
  },
  {
   "cell_type": "code",
   "execution_count": 2,
   "metadata": {},
   "outputs": [],
   "source": [
    "import requests\n",
    "from scrapy.selector import Selector"
   ]
  },
  {
   "cell_type": "code",
   "execution_count": 3,
   "metadata": {},
   "outputs": [],
   "source": [
    "def leer(html_path):\n",
    "    \"\"\"\n",
    "    Read html document\n",
    "    \n",
    "    Parameters\n",
    "    ----------\n",
    "    html_path : str\n",
    "    \"\"\"\n",
    "    with open(html_path) as f:\n",
    "        data = f.read()\n",
    "    return data"
   ]
  },
  {
   "cell_type": "code",
   "execution_count": 4,
   "metadata": {},
   "outputs": [
    {
     "name": "stdout",
     "output_type": "stream",
     "text": [
      "<html>\n",
      " <head>\n",
      "  <base href='http://example.com/' />\n",
      "  <title>Example website</title>\n",
      " </head>\n",
      " <body>\n",
      "  <div id='images'>\n",
      "   <a href='image1.html'>Name: My image 1 <br /><img src='image1_thumb.jpg' /></a>\n",
      "   <a href='image2.html'>Name: My image 2 <br /><img src='image2_thumb.jpg' /></a>\n",
      "   <a href='image3.html'>Name: My image 3 <br /><img src='image3_thumb.jpg' /></a>\n",
      "   <a href='image4.html'>Name: My image 4 <br /><img src='image4_thumb.jpg' /></a>\n",
      "   <a href='image5.html'>Name: My image 5 <br /><img src='image5_thumb.jpg' /></a>\n",
      "  </div>\n",
      "\n",
      "  <p id=\"p-example\">\n",
      "      Hello World!\n",
      "      Try <a href=\"www.example.com\">Click Here</a> Today!\n",
      "  </p>\n",
      "\n",
      " </body>\n",
      "</html>\n"
     ]
    }
   ],
   "source": [
    "html_path = './src/selectores.html'\n",
    "# Cargamos documento html\n",
    "html_doc = leer(html_path)\n",
    "print(html_doc)"
   ]
  },
  {
   "cell_type": "code",
   "execution_count": 5,
   "metadata": {},
   "outputs": [],
   "source": [
    "#pasando el codigo html de la página\n",
    "response=Selector(text=html_doc)"
   ]
  },
  {
   "cell_type": "markdown",
   "metadata": {},
   "source": [
    "El objeto <code>response </code> nos ayudará a movilizarnos por medio del HTML de la página web"
   ]
  },
  {
   "cell_type": "markdown",
   "metadata": {},
   "source": [
    "### Métodos de selección XPATH"
   ]
  },
  {
   "cell_type": "markdown",
   "metadata": {},
   "source": [
    "- **Slashes y Corchetes**\n",
    "    - Un Slash <code>/</code> se encarga de navegar a través de una generación de código\n",
    "    - Doble Slash <code>//</code> implica la navegación de un elemento a todas las generaciones de elementos futuras\n",
    "    - Corchetes <code>[]</code> nos ayuda a posicionarnos en un elemento en específico del árbol HTML"
   ]
  },
  {
   "cell_type": "code",
   "execution_count": 6,
   "metadata": {},
   "outputs": [
    {
     "data": {
      "text/plain": [
       "[<Selector xpath='/html/head/title' data='<title>Example website</title>'>]"
      ]
     },
     "execution_count": 6,
     "metadata": {},
     "output_type": "execute_result"
    }
   ],
   "source": [
    "# Utilizando / para la navegación entre nodos\n",
    "xpath_string = '/html/head/title'  # me permite navegar de forma ordenada en el html de la página\n",
    "response.xpath(xpath_string)"
   ]
  },
  {
   "cell_type": "code",
   "execution_count": 7,
   "metadata": {},
   "outputs": [
    {
     "data": {
      "text/plain": [
       "[<Selector xpath='//title' data='<title>Example website</title>'>]"
      ]
     },
     "execution_count": 7,
     "metadata": {},
     "output_type": "execute_result"
    }
   ],
   "source": [
    "# Utilizando // para la navegación\n",
    "\n",
    "xpath_string = '//title'  # permite seleccionar elementos coincidentes según el valor indicado\n",
    "response.xpath(xpath_string)\n"
   ]
  },
  {
   "cell_type": "code",
   "execution_count": 8,
   "metadata": {},
   "outputs": [
    {
     "data": {
      "text/plain": [
       "[<Selector xpath='//a' data='<a href=\"image1.html\">Name: My image ...'>,\n",
       " <Selector xpath='//a' data='<a href=\"image2.html\">Name: My image ...'>,\n",
       " <Selector xpath='//a' data='<a href=\"image3.html\">Name: My image ...'>,\n",
       " <Selector xpath='//a' data='<a href=\"image4.html\">Name: My image ...'>,\n",
       " <Selector xpath='//a' data='<a href=\"image5.html\">Name: My image ...'>,\n",
       " <Selector xpath='//a' data='<a href=\"www.example.com\">Click Here</a>'>]"
      ]
     },
     "execution_count": 8,
     "metadata": {},
     "output_type": "execute_result"
    }
   ],
   "source": [
    "xpath_string = '//a'  # permite seleccionar elementos coincidentes según el valor indicado\n",
    "response.xpath(xpath_string)"
   ]
  },
  {
   "cell_type": "code",
   "execution_count": 9,
   "metadata": {},
   "outputs": [
    {
     "data": {
      "text/plain": [
       "[<Selector xpath='//a[1]' data='<a href=\"image1.html\">Name: My image ...'>,\n",
       " <Selector xpath='//a[1]' data='<a href=\"www.example.com\">Click Here</a>'>]"
      ]
     },
     "execution_count": 9,
     "metadata": {},
     "output_type": "execute_result"
    }
   ],
   "source": [
    "# Utilizando [] para la navegación\n",
    "\n",
    "xpath_string = '//a[1]'  # [] -> me ayuda a controlar cual de los elementos obtenidos se desea tener\n",
    "response.xpath(xpath_string)\n"
   ]
  },
  {
   "cell_type": "markdown",
   "metadata": {},
   "source": [
    "- **Comodín <code>*</code>**"
   ]
  },
  {
   "cell_type": "code",
   "execution_count": 10,
   "metadata": {},
   "outputs": [
    {
     "data": {
      "text/plain": [
       "[<Selector xpath='//div/*' data='<a href=\"image1.html\">Name: My image ...'>,\n",
       " <Selector xpath='//div/*' data='<a href=\"image2.html\">Name: My image ...'>,\n",
       " <Selector xpath='//div/*' data='<a href=\"image3.html\">Name: My image ...'>,\n",
       " <Selector xpath='//div/*' data='<a href=\"image4.html\">Name: My image ...'>,\n",
       " <Selector xpath='//div/*' data='<a href=\"image5.html\">Name: My image ...'>]"
      ]
     },
     "execution_count": 10,
     "metadata": {},
     "output_type": "execute_result"
    }
   ],
   "source": [
    "# Utilizando * para la navegación\n",
    "\n",
    "xpath_string = '//div/*'  # * -> me ayuda a seleccionar cualquier elemento en particular que se tenga\n",
    "response.xpath(xpath_string)"
   ]
  },
  {
   "cell_type": "markdown",
   "metadata": {},
   "source": [
    "- **Atributos @**:\n",
    "    - <code>@class</code> : selección de elemento por nombre de clase\n",
    "    - <code>@id</code> : seleccion de elemento por id\n",
    "    - <code>@href</code> : selección de elemento según su href"
   ]
  },
  {
   "cell_type": "code",
   "execution_count": 11,
   "metadata": {},
   "outputs": [
    {
     "data": {
      "text/plain": [
       "[<Selector xpath='//div[@id=\"images\"]' data='<div id=\"images\">\\n   <a href=\"image1....'>]"
      ]
     },
     "execution_count": 11,
     "metadata": {},
     "output_type": "execute_result"
    }
   ],
   "source": [
    "# Utilizando @id para la navegación\n",
    "\n",
    "xpath_string = '//div[@id=\"images\"]'  # @id -> me permite seleccionar un elemento por su id\n",
    "response.xpath(xpath_string)"
   ]
  },
  {
   "cell_type": "code",
   "execution_count": 12,
   "metadata": {},
   "outputs": [
    {
     "data": {
      "text/plain": [
       "[<Selector xpath='//div/a[@href=\"image2.html\"]' data='<a href=\"image2.html\">Name: My image ...'>]"
      ]
     },
     "execution_count": 12,
     "metadata": {},
     "output_type": "execute_result"
    }
   ],
   "source": [
    "# Utilizando @id para la navegación\n",
    "\n",
    "xpath_string = '//div/a[@href=\"image2.html\"]'  # @id -> me permite seleccionar un elemento por su id\n",
    "response.xpath(xpath_string)"
   ]
  },
  {
   "cell_type": "code",
   "execution_count": 13,
   "metadata": {},
   "outputs": [
    {
     "data": {
      "text/plain": [
       "[<Selector xpath='//div/a/@href' data='image1.html'>,\n",
       " <Selector xpath='//div/a/@href' data='image2.html'>,\n",
       " <Selector xpath='//div/a/@href' data='image3.html'>,\n",
       " <Selector xpath='//div/a/@href' data='image4.html'>,\n",
       " <Selector xpath='//div/a/@href' data='image5.html'>]"
      ]
     },
     "execution_count": 13,
     "metadata": {},
     "output_type": "execute_result"
    }
   ],
   "source": [
    "# Utilizando @href para la navegación\n",
    "xpath_string = '//div/a/@href'  # @id -> me permite seleccionar un elemento por su id\n",
    "response.xpath(xpath_string)"
   ]
  },
  {
   "cell_type": "markdown",
   "metadata": {},
   "source": [
    "- **Contiene**:\n",
    "    - <code>contains(@attri-name,\"string-expr\" )</code> : Búsqueda de atributo según contenido"
   ]
  },
  {
   "cell_type": "code",
   "execution_count": 14,
   "metadata": {},
   "outputs": [
    {
     "data": {
      "text/plain": [
       "[<Selector xpath='//*[contains(@href,\"image\")]' data='<a href=\"image1.html\">Name: My image ...'>,\n",
       " <Selector xpath='//*[contains(@href,\"image\")]' data='<a href=\"image2.html\">Name: My image ...'>,\n",
       " <Selector xpath='//*[contains(@href,\"image\")]' data='<a href=\"image3.html\">Name: My image ...'>,\n",
       " <Selector xpath='//*[contains(@href,\"image\")]' data='<a href=\"image4.html\">Name: My image ...'>,\n",
       " <Selector xpath='//*[contains(@href,\"image\")]' data='<a href=\"image5.html\">Name: My image ...'>]"
      ]
     },
     "execution_count": 14,
     "metadata": {},
     "output_type": "execute_result"
    }
   ],
   "source": [
    "xpath_string = '//*[contains(@href,\"image\")]'\n",
    "response.xpath(xpath_string)"
   ]
  },
  {
   "cell_type": "code",
   "execution_count": null,
   "metadata": {},
   "outputs": [],
   "source": []
  },
  {
   "cell_type": "markdown",
   "metadata": {},
   "source": [
    "## SCRAPY : OBTENCIÓN DE DATA DE LIST SELECTOR"
   ]
  },
  {
   "cell_type": "markdown",
   "metadata": {},
   "source": [
    "Usa <code>.get()</code> para obtener solo un resultado del conjunto de resultados disponible; si hay varias coincidencias, se devuelve el contenido de una primera coincidencia; si no hay coincidencias, se devuelve <code>None.</code>"
   ]
  },
  {
   "cell_type": "code",
   "execution_count": 15,
   "metadata": {},
   "outputs": [
    {
     "data": {
      "text/plain": [
       "'Example website'"
      ]
     },
     "execution_count": 15,
     "metadata": {},
     "output_type": "execute_result"
    }
   ],
   "source": [
    "#obteniendo el título de la página web\n",
    "response.xpath('//head/title/text()').get()"
   ]
  },
  {
   "cell_type": "markdown",
   "metadata": {},
   "source": [
    "El método <code>.getall()</code> devuelve una lista con todos los resultados obtenidos."
   ]
  },
  {
   "cell_type": "code",
   "execution_count": 16,
   "metadata": {},
   "outputs": [
    {
     "data": {
      "text/plain": [
       "['Name: My image 1 ',\n",
       " 'Name: My image 2 ',\n",
       " 'Name: My image 3 ',\n",
       " 'Name: My image 4 ',\n",
       " 'Name: My image 5 ']"
      ]
     },
     "execution_count": 16,
     "metadata": {},
     "output_type": "execute_result"
    }
   ],
   "source": [
    "#obteniendo de los elementos a\n",
    "response.xpath('//div/a/text()').getall()"
   ]
  },
  {
   "cell_type": "code",
   "execution_count": 17,
   "metadata": {},
   "outputs": [
    {
     "data": {
      "text/plain": [
       "['image1.html', 'image2.html', 'image3.html', 'image4.html', 'image5.html']"
      ]
     },
     "execution_count": 17,
     "metadata": {},
     "output_type": "execute_result"
    }
   ],
   "source": [
    "#obteniendo de los elementos href dentro de a\n",
    "response.xpath('//div/a/@href').getall()"
   ]
  },
  {
   "cell_type": "markdown",
   "metadata": {},
   "source": [
    "## Atributos y selección de Texto"
   ]
  },
  {
   "cell_type": "markdown",
   "metadata": {},
   "source": [
    "Usar la siguiente formula <code>`<xpath-to-element>`/@attr-name</code>"
   ]
  },
  {
   "cell_type": "code",
   "execution_count": 21,
   "metadata": {},
   "outputs": [
    {
     "data": {
      "text/plain": [
       "['image1.html', 'image2.html', 'image3.html', 'image4.html', 'image5.html']"
      ]
     },
     "execution_count": 21,
     "metadata": {},
     "output_type": "execute_result"
    }
   ],
   "source": [
    "xpath_string = '//div[@id=\"images\"]/a/@href'\n",
    "response.xpath(xpath_string).getall()"
   ]
  },
  {
   "cell_type": "markdown",
   "metadata": {},
   "source": [
    "- Extracción de Texto\n",
    "    - Pata CSS use <code>text()</code>"
   ]
  },
  {
   "cell_type": "code",
   "execution_count": 26,
   "metadata": {},
   "outputs": [
    {
     "data": {
      "text/plain": [
       "['\\n      Hello World!\\n      Try ', ' Today!\\n  ']"
      ]
     },
     "execution_count": 26,
     "metadata": {},
     "output_type": "execute_result"
    }
   ],
   "source": [
    "response.xpath('//p[@id=\"p-example\"]/text()').getall()"
   ]
  },
  {
   "cell_type": "code",
   "execution_count": 25,
   "metadata": {},
   "outputs": [
    {
     "data": {
      "text/plain": [
       "['\\n      Hello World!\\n      Try ', 'Click Here', ' Today!\\n  ']"
      ]
     },
     "execution_count": 25,
     "metadata": {},
     "output_type": "execute_result"
    }
   ],
   "source": [
    "response.xpath('//p[@id=\"p-example\"]//text()').getall()"
   ]
  },
  {
   "cell_type": "markdown",
   "metadata": {},
   "source": [
    "## Ejemplo 1"
   ]
  },
  {
   "cell_type": "markdown",
   "metadata": {},
   "source": [
    "Utilizar la siguiente página para realizar el scrapeo de las citas mencionadas en la página"
   ]
  },
  {
   "cell_type": "code",
   "execution_count": 27,
   "metadata": {},
   "outputs": [],
   "source": [
    "url = 'https://quotes.toscrape.com/'\n",
    "html = requests.get( url ).content"
   ]
  },
  {
   "cell_type": "code",
   "execution_count": null,
   "metadata": {},
   "outputs": [],
   "source": []
  },
  {
   "cell_type": "code",
   "execution_count": null,
   "metadata": {},
   "outputs": [],
   "source": []
  },
  {
   "cell_type": "markdown",
   "metadata": {},
   "source": [
    "# Referencias"
   ]
  },
  {
   "cell_type": "markdown",
   "metadata": {},
   "source": [
    "- [Arbol de nodos html](http://mialtoweb.es/el-dom-y-el-arbol-de-nodos/)\n",
    "- [Documentación Scrapy](https://docs.scrapy.org/en/latest/topics/selectors.html)\n"
   ]
  }
 ],
 "metadata": {
  "kernelspec": {
   "display_name": "Python [conda env:python_scraping]",
   "language": "python",
   "name": "conda-env-python_scraping-py"
  },
  "language_info": {
   "codemirror_mode": {
    "name": "ipython",
    "version": 3
   },
   "file_extension": ".py",
   "mimetype": "text/x-python",
   "name": "python",
   "nbconvert_exporter": "python",
   "pygments_lexer": "ipython3",
   "version": "3.8.5"
  }
 },
 "nbformat": 4,
 "nbformat_minor": 4
}
